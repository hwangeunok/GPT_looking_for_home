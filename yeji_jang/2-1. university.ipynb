{
 "cells": [
  {
   "cell_type": "code",
   "execution_count": 18,
   "metadata": {},
   "outputs": [],
   "source": [
    "import pandas as pd\n",
    "import numpy as np\n",
    "\n",
    "# 지리적 거리 계산\n",
    "from geopy.distance import geodesic "
   ]
  },
  {
   "attachments": {},
   "cell_type": "markdown",
   "metadata": {},
   "source": [
    "# **1. 데이터 로드**"
   ]
  },
  {
   "cell_type": "markdown",
   "metadata": {},
   "source": [
    "## 1) 아파트 데이터\n",
    "- 지하철역, 병원 수까지 추가된 데이터"
   ]
  },
  {
   "cell_type": "code",
   "execution_count": 21,
   "metadata": {},
   "outputs": [
    {
     "name": "stdout",
     "output_type": "stream",
     "text": [
      "전체 shape :  (3142, 29)\n"
     ]
    },
    {
     "data": {
      "text/html": [
       "<div>\n",
       "<style scoped>\n",
       "    .dataframe tbody tr th:only-of-type {\n",
       "        vertical-align: middle;\n",
       "    }\n",
       "\n",
       "    .dataframe tbody tr th {\n",
       "        vertical-align: top;\n",
       "    }\n",
       "\n",
       "    .dataframe thead th {\n",
       "        text-align: right;\n",
       "    }\n",
       "</style>\n",
       "<table border=\"1\" class=\"dataframe\">\n",
       "  <thead>\n",
       "    <tr style=\"text-align: right;\">\n",
       "      <th></th>\n",
       "      <th>아파트명</th>\n",
       "      <th>법정동주소</th>\n",
       "      <th>위도</th>\n",
       "      <th>경도</th>\n",
       "      <th>세대수</th>\n",
       "      <th>임대세대수</th>\n",
       "      <th>최고층</th>\n",
       "      <th>최저층</th>\n",
       "      <th>최대공급면적</th>\n",
       "      <th>최소공급면적</th>\n",
       "      <th>...</th>\n",
       "      <th>현관구조</th>\n",
       "      <th>입주예정일</th>\n",
       "      <th>공급액(만원)</th>\n",
       "      <th>대형건설사</th>\n",
       "      <th>location</th>\n",
       "      <th>지하철역</th>\n",
       "      <th>지하철역_거리(km)</th>\n",
       "      <th>1차병원</th>\n",
       "      <th>2차병원</th>\n",
       "      <th>3차병원</th>\n",
       "    </tr>\n",
       "  </thead>\n",
       "  <tbody>\n",
       "    <tr>\n",
       "      <th>0</th>\n",
       "      <td>올림픽파크 포레온</td>\n",
       "      <td>서울특별시 강동구 둔촌1동 170-1</td>\n",
       "      <td>37.522886</td>\n",
       "      <td>127.140539</td>\n",
       "      <td>12032</td>\n",
       "      <td>1046.0</td>\n",
       "      <td>35.0</td>\n",
       "      <td>20.0</td>\n",
       "      <td>114.42</td>\n",
       "      <td>46.21</td>\n",
       "      <td>...</td>\n",
       "      <td>혼합식</td>\n",
       "      <td>202501</td>\n",
       "      <td>132,040</td>\n",
       "      <td>YES</td>\n",
       "      <td>(37.5228859, 127.140539)</td>\n",
       "      <td>9호선 둔촌오륜역</td>\n",
       "      <td>0.6223</td>\n",
       "      <td>46</td>\n",
       "      <td>16</td>\n",
       "      <td>1</td>\n",
       "    </tr>\n",
       "  </tbody>\n",
       "</table>\n",
       "<p>1 rows × 29 columns</p>\n",
       "</div>"
      ],
      "text/plain": [
       "        아파트명                 법정동주소         위도          경도    세대수   임대세대수  \\\n",
       "0  올림픽파크 포레온  서울특별시 강동구 둔촌1동 170-1  37.522886  127.140539  12032  1046.0   \n",
       "\n",
       "    최고층   최저층  최대공급면적  최소공급면적  ...  현관구조   입주예정일  공급액(만원)  대형건설사  \\\n",
       "0  35.0  20.0  114.42   46.21  ...   혼합식  202501  132,040    YES   \n",
       "\n",
       "                   location       지하철역  지하철역_거리(km)  1차병원  2차병원 3차병원  \n",
       "0  (37.5228859, 127.140539)  9호선 둔촌오륜역       0.6223    46    16    1  \n",
       "\n",
       "[1 rows x 29 columns]"
      ]
     },
     "execution_count": 21,
     "metadata": {},
     "output_type": "execute_result"
    }
   ],
   "source": [
    "house = pd.read_csv('apartment3.csv')\n",
    "# house.drop(['Unnamed: 0'], axis=1, inplace=True)\n",
    "\n",
    "print('전체 shape : ', house.shape)\n",
    "house.head(1)"
   ]
  },
  {
   "attachments": {},
   "cell_type": "markdown",
   "metadata": {},
   "source": [
    "## 2) 대학교 데이터"
   ]
  },
  {
   "cell_type": "code",
   "execution_count": 46,
   "metadata": {},
   "outputs": [
    {
     "name": "stdout",
     "output_type": "stream",
     "text": [
      "학교 데이터 수정 전 shape :  (2013, 21)\n"
     ]
    }
   ],
   "source": [
    "university = pd.read_excel('학교개황(20220310기준).xlsx')\n",
    "print('학교 데이터 수정 전 shape : ', university.shape)\n",
    "# university.head(1)\n",
    "# university.info()"
   ]
  },
  {
   "cell_type": "code",
   "execution_count": 47,
   "metadata": {},
   "outputs": [
    {
     "data": {
      "text/plain": [
       "Index(['학교구분', '학교코드', '학교명', '본분교', '학제', '지역', '설립구분', '관련법령', '법인명', '학교상태',\n",
       "       '중문학교명', '영문학교명', '주소', '영문주소', '중문주소', '우편번호', '학교개교일', '학교홈페이지',\n",
       "       '총장(대학원장)명', '학교대표\\n번호', '학교대표\\n팩스번호'],\n",
       "      dtype='object')"
      ]
     },
     "execution_count": 47,
     "metadata": {},
     "output_type": "execute_result"
    }
   ],
   "source": [
    "university.columns"
   ]
  },
  {
   "cell_type": "markdown",
   "metadata": {},
   "source": [
    "#### 데이터 확인"
   ]
  },
  {
   "cell_type": "code",
   "execution_count": 37,
   "metadata": {},
   "outputs": [
    {
     "name": "stdout",
     "output_type": "stream",
     "text": [
      "1. 학교 상태 유니크 값 :  ['기존' '폐교' '신설']\n",
      "2. 본분교 유니크 값 :  ['본교' '제2캠퍼스' '제3캠퍼스' '분교' '제4캠퍼스']\n",
      "3. 설립구분 유니크 값 :  ['국립' '국립대법인' '공립' '사립' '특별법법인' '특별법국립' '기타']\n",
      "4. 지역 유니크 값 :  ['강원' '대구' '경남' '충남' '전북' '경북' '전남' '부산' '서울' '광주' '제주' '대전' '충북' '경기'\n",
      " '세종' '인천' '울산']\n"
     ]
    }
   ],
   "source": [
    "# <대학교 데이터 필요 컬럼만 가져와 확인>\n",
    "\n",
    "university = university[['학교명', '학교구분', '본분교', '지역', '설립구분', '우편번호', '주소', '법인명', '학교상태', '학교개교일']]\n",
    "\n",
    "print('1. 학교 상태 유니크 값 : ', university['학교상태'].unique()) # -> 폐교인 행 drop하기\n",
    "print('2. 본분교 유니크 값 : ', university['본분교'].unique())\n",
    "print('3. 설립구분 유니크 값 : ', university['설립구분'].unique()) \n",
    "print('4. 지역 유니크 값 : ', university['지역'].unique()) # -> 서울, 경기, 인천 제외한 행 모두 drop하기"
   ]
  },
  {
   "cell_type": "code",
   "execution_count": 38,
   "metadata": {},
   "outputs": [
    {
     "name": "stdout",
     "output_type": "stream",
     "text": [
      "서울의 학교는 몇개? :  570\n",
      "경기의 학교는 몇개? :  335\n",
      "인천의 학교는 몇개? :  43 \n",
      "\n",
      "서울의 학교는 몇개?(유니크 값) :  568\n",
      "경기의 학교는 몇개?(유니크 값) :  333\n",
      "인천의 학교는 몇개?(유니크 값) :  42 \n",
      "\n",
      "지역이 서울, 경기, 인천 지역인 학교의 수 : 948\n"
     ]
    }
   ],
   "source": [
    "# <원본 데이터의 서울, 경기, 인천 학교수>\n",
    "\n",
    "seoul_schools = university[university['지역'].isin(['서울'])]\n",
    "gyeonggi_schools = university[university['지역'].isin(['경기'])]\n",
    "incheon_schools = university[university['지역'].isin(['인천'])]\n",
    "\n",
    "\n",
    "print('서울의 학교는 몇개? : ', len(seoul_schools['학교명']))\n",
    "print('경기의 학교는 몇개? : ', len(gyeonggi_schools['학교명']))\n",
    "print('인천의 학교는 몇개? : ', len(incheon_schools['학교명']),'\\n')\n",
    "\n",
    "print('서울의 학교는 몇개?(유니크 값) : ', len(seoul_schools['학교명'].unique())) # -2개 \n",
    "print('경기의 학교는 몇개?(유니크 값) : ', len(gyeonggi_schools['학교명'].unique())) # -2개\n",
    "print('인천의 학교는 몇개?(유니크 값) : ', len(incheon_schools['학교명'].unique()), '\\n') # -1개\n",
    "\n",
    "# 지역이 서울, 경기, 인천 지역인 학교의 수\n",
    "total = seoul_schools+gyeonggi_schools+incheon_schools\n",
    "print('지역이 서울, 경기, 인천 지역인 학교의 수 :', len(total))"
   ]
  },
  {
   "cell_type": "markdown",
   "metadata": {},
   "source": [
    "# **2. 대학교 데이터 전처리**"
   ]
  },
  {
   "cell_type": "markdown",
   "metadata": {},
   "source": [
    "## 1) 학교가 폐교인 것 drop\n",
    "- '학교상태' 열에서 '폐교'인 행을 삭제"
   ]
  },
  {
   "cell_type": "code",
   "execution_count": 55,
   "metadata": {},
   "outputs": [
    {
     "data": {
      "text/html": [
       "<div>\n",
       "<style scoped>\n",
       "    .dataframe tbody tr th:only-of-type {\n",
       "        vertical-align: middle;\n",
       "    }\n",
       "\n",
       "    .dataframe tbody tr th {\n",
       "        vertical-align: top;\n",
       "    }\n",
       "\n",
       "    .dataframe thead th {\n",
       "        text-align: right;\n",
       "    }\n",
       "</style>\n",
       "<table border=\"1\" class=\"dataframe\">\n",
       "  <thead>\n",
       "    <tr style=\"text-align: right;\">\n",
       "      <th></th>\n",
       "      <th>학교명</th>\n",
       "      <th>학교구분</th>\n",
       "      <th>본분교</th>\n",
       "      <th>지역</th>\n",
       "      <th>설립구분</th>\n",
       "      <th>우편번호</th>\n",
       "      <th>주소</th>\n",
       "      <th>Latitude</th>\n",
       "      <th>Longitude</th>\n",
       "      <th>법인명</th>\n",
       "      <th>학교상태</th>\n",
       "      <th>학교개교일</th>\n",
       "    </tr>\n",
       "  </thead>\n",
       "  <tbody>\n",
       "    <tr>\n",
       "      <th>0</th>\n",
       "      <td>서울대학교</td>\n",
       "      <td>대학</td>\n",
       "      <td>본교</td>\n",
       "      <td>서울</td>\n",
       "      <td>국립대법인</td>\n",
       "      <td>8826</td>\n",
       "      <td>서울특별시 관악구 관악로 1 (신림동, 서울대학교)</td>\n",
       "      <td>37.480967</td>\n",
       "      <td>126.953148</td>\n",
       "      <td>서울대학교 법인</td>\n",
       "      <td>기존</td>\n",
       "      <td>1946-08-22</td>\n",
       "    </tr>\n",
       "  </tbody>\n",
       "</table>\n",
       "</div>"
      ],
      "text/plain": [
       "     학교명 학교구분 본분교  지역   설립구분  우편번호                             주소   Latitude  \\\n",
       "0  서울대학교   대학  본교  서울  국립대법인  8826  서울특별시 관악구 관악로 1 (신림동, 서울대학교)   37.480967   \n",
       "\n",
       "    Longitude       법인명 학교상태       학교개교일  \n",
       "0  126.953148  서울대학교 법인   기존  1946-08-22  "
      ]
     },
     "execution_count": 55,
     "metadata": {},
     "output_type": "execute_result"
    }
   ],
   "source": [
    "# 위도 경도 포함된 university 데이터 불러오기 -> 구글 시트에서 위도 경도 계산\n",
    "university = pd.read_csv('university.csv')\n",
    "university.head(1)"
   ]
  },
  {
   "cell_type": "code",
   "execution_count": 57,
   "metadata": {},
   "outputs": [
    {
     "name": "stdout",
     "output_type": "stream",
     "text": [
      "학교 상태가 폐교인 것 몇 행? : 0\n",
      "학교 데이터 수정 후 shape :  (753, 12)\n",
      "학교 상태 유니크 값 :  ['기존' '신설']\n"
     ]
    }
   ],
   "source": [
    "# 학교상태가 폐교인 것 \n",
    "closed_schools = university[university['학교상태'] == '폐교']\n",
    "print('학교 상태가 폐교인 것 몇 행? :', closed_schools.shape[0])\n",
    "\n",
    "# 전체 2013행 중 435행(폐교인 것) 제외하기\n",
    "university.drop(university[university['학교상태'] == '폐교'].index, axis=0, inplace=True)\n",
    "\n",
    "# 학교상태 폐교 삭제 & 컬럼명 일부만\n",
    "print('학교 데이터 수정 후 shape : ', university.shape)\n",
    "print('학교 상태 유니크 값 : ', university['학교상태'].unique())"
   ]
  },
  {
   "cell_type": "code",
   "execution_count": 40,
   "metadata": {},
   "outputs": [
    {
     "name": "stdout",
     "output_type": "stream",
     "text": [
      "폐교 drop 후 지역이 서울, 경기, 인천 지역인 학교의 수 : 753\n"
     ]
    }
   ],
   "source": [
    "# 폐교 행 drop 후 서울, 경기, 인천 학교 수\n",
    "seoul_schools = university[university['지역'].isin(['서울'])]\n",
    "gyeonggi_schools = university[university['지역'].isin(['경기'])]\n",
    "incheon_schools = university[university['지역'].isin(['인천'])]\n",
    "\n",
    "# 지역이 서울, 경기, 인천 지역인 학교의 수\n",
    "total = seoul_schools+gyeonggi_schools+incheon_schools\n",
    "print('폐교 drop 후 지역이 서울, 경기, 인천 지역인 학교의 수 :', len(total))"
   ]
  },
  {
   "cell_type": "markdown",
   "metadata": {},
   "source": [
    "## 2) 지역 필터링\n",
    "- '서울', '경기', '인천' 이외의 행을 모두 삭제"
   ]
  },
  {
   "cell_type": "code",
   "execution_count": 58,
   "metadata": {},
   "outputs": [
    {
     "name": "stdout",
     "output_type": "stream",
     "text": [
      "지역이 [서울, 경기, 인천]인 것만 : (753, 12)\n"
     ]
    }
   ],
   "source": [
    "# 서울, 경기, 인천 지역이 아닌 행 삭제 \n",
    "university.drop(university[~university['지역'].isin(['서울', '경기', '인천'])].index, inplace=True)\n",
    "print('지역이 [서울, 경기, 인천]인 것만 :', university.shape)"
   ]
  },
  {
   "cell_type": "markdown",
   "metadata": {},
   "source": [
    "## 3) 학교구분 필터링\n",
    "- 대학과 전문대학만 남기고 다은 유형은 삭제"
   ]
  },
  {
   "cell_type": "code",
   "execution_count": 59,
   "metadata": {},
   "outputs": [
    {
     "data": {
      "text/plain": [
       "대학원      564\n",
       "대학       100\n",
       "전문대학      51\n",
       "대학원대학     38\n",
       "Name: 학교구분, dtype: int64"
      ]
     },
     "execution_count": 59,
     "metadata": {},
     "output_type": "execute_result"
    }
   ],
   "source": [
    "# (수정 전)\n",
    "university['학교구분'].unique()\n",
    "university['학교구분'].value_counts()"
   ]
  },
  {
   "cell_type": "code",
   "execution_count": 60,
   "metadata": {},
   "outputs": [
    {
     "name": "stdout",
     "output_type": "stream",
     "text": [
      "학교 구분 확인 : 대학      100\n",
      "전문대학     51\n",
      "Name: 학교구분, dtype: int64\n"
     ]
    }
   ],
   "source": [
    "# (수정 후) 학교 구분이 '대학', '전문대학' 인 경우만\n",
    "university_df = university[university['학교구분'].isin(['대학', '전문대학'])]\n",
    "print('학교 구분 확인 :', university_df['학교구분'].value_counts())"
   ]
  },
  {
   "cell_type": "markdown",
   "metadata": {},
   "source": [
    "## 4) 컬럼명 변경 및 특정 컬럼 삭제"
   ]
  },
  {
   "cell_type": "code",
   "execution_count": 62,
   "metadata": {},
   "outputs": [
    {
     "name": "stdout",
     "output_type": "stream",
     "text": [
      "컬럼 삭제 후 대학교/대학 전체 shape :  (151, 8)\n"
     ]
    },
    {
     "name": "stderr",
     "output_type": "stream",
     "text": [
      "/var/folders/ht/vmxckhk151s1x5lpr_f5drm40000gn/T/ipykernel_2261/3143594320.py:7: SettingWithCopyWarning: \n",
      "A value is trying to be set on a copy of a slice from a DataFrame\n",
      "\n",
      "See the caveats in the documentation: https://pandas.pydata.org/pandas-docs/stable/user_guide/indexing.html#returning-a-view-versus-a-copy\n",
      "  university_df.rename(columns=new_column_names, inplace=True)\n",
      "/var/folders/ht/vmxckhk151s1x5lpr_f5drm40000gn/T/ipykernel_2261/3143594320.py:11: SettingWithCopyWarning: \n",
      "A value is trying to be set on a copy of a slice from a DataFrame\n",
      "\n",
      "See the caveats in the documentation: https://pandas.pydata.org/pandas-docs/stable/user_guide/indexing.html#returning-a-view-versus-a-copy\n",
      "  university_df.drop(columns=['우편번호', '법인명', '학교상태', '학교개교일'], inplace=True)\n"
     ]
    },
    {
     "data": {
      "text/html": [
       "<div>\n",
       "<style scoped>\n",
       "    .dataframe tbody tr th:only-of-type {\n",
       "        vertical-align: middle;\n",
       "    }\n",
       "\n",
       "    .dataframe tbody tr th {\n",
       "        vertical-align: top;\n",
       "    }\n",
       "\n",
       "    .dataframe thead th {\n",
       "        text-align: right;\n",
       "    }\n",
       "</style>\n",
       "<table border=\"1\" class=\"dataframe\">\n",
       "  <thead>\n",
       "    <tr style=\"text-align: right;\">\n",
       "      <th></th>\n",
       "      <th>대학명</th>\n",
       "      <th>학교구분</th>\n",
       "      <th>본분교</th>\n",
       "      <th>대학 지역</th>\n",
       "      <th>설립구분</th>\n",
       "      <th>대학 주소</th>\n",
       "      <th>대학 위도</th>\n",
       "      <th>대학 경도</th>\n",
       "    </tr>\n",
       "  </thead>\n",
       "  <tbody>\n",
       "    <tr>\n",
       "      <th>0</th>\n",
       "      <td>서울대학교</td>\n",
       "      <td>대학</td>\n",
       "      <td>본교</td>\n",
       "      <td>서울</td>\n",
       "      <td>국립대법인</td>\n",
       "      <td>서울특별시 관악구 관악로 1 (신림동, 서울대학교)</td>\n",
       "      <td>37.480967</td>\n",
       "      <td>126.953148</td>\n",
       "    </tr>\n",
       "  </tbody>\n",
       "</table>\n",
       "</div>"
      ],
      "text/plain": [
       "     대학명 학교구분 본분교 대학 지역   설립구분                          대학 주소      대학 위도  \\\n",
       "0  서울대학교   대학  본교    서울  국립대법인  서울특별시 관악구 관악로 1 (신림동, 서울대학교)   37.480967   \n",
       "\n",
       "        대학 경도  \n",
       "0  126.953148  "
      ]
     },
     "execution_count": 62,
     "metadata": {},
     "output_type": "execute_result"
    }
   ],
   "source": [
    "# 컬럼명 변경\n",
    "new_column_names = {'학교명' : '대학명',\n",
    "                    '지역' : '대학 지역',\n",
    "                    '주소' : '대학 주소',\n",
    "                    'Latitude' : '대학 위도',\n",
    "                    'Longitude' : '대학 경도'}\n",
    "university_df.rename(columns=new_column_names, inplace=True)\n",
    "\n",
    "\n",
    "# 특정 컬럼 삭제\n",
    "university_df.drop(columns=['우편번호', '법인명', '학교상태', '학교개교일'], inplace=True)\n",
    "\n",
    "print('컬럼 삭제 후 대학교/대학 전체 shape : ', university_df.shape)\n",
    "university_df.head(1)"
   ]
  },
  {
   "cell_type": "markdown",
   "metadata": {},
   "source": [
    "# **3. 아파트와 가장 가까운 대학교 개수 계산**\n",
    "- geodesic를 사용하여 지리적 거리 계산 -> (단점) 너무 오래걸림 \n",
    "- 아파트에서 1km 반경 내 대학교 수를 계산하여 '대학교_수' 컬럼을 추가"
   ]
  },
  {
   "cell_type": "code",
   "execution_count": 63,
   "metadata": {},
   "outputs": [],
   "source": [
    "# 반경 내 대학교 수 계산하여 새로운 컬럼 추가 -> (단점)geodesic 너무 오래걸림\n",
    "\n",
    "km = 1  # 반경 1km\n",
    "house['대학교_수'] = 0  # 초기화\n",
    "\n",
    "\n",
    "for h_idx, h_row in house.iterrows() :\n",
    "    count = 0\n",
    "\n",
    "     # 대학교 데이터프레임을 반복하여 각 대학교와의 거리를 계산\n",
    "    for u_idx, u_row in university_df.iterrows() :\n",
    "\n",
    "         # geodesic 함수를 사용하여 주택 위치와 대학교 위치 간의 거리를 계산\n",
    "        distance = geodesic((h_row['위도'], h_row['경도']), (u_row['대학 위도'], u_row['대학 경도'])).kilometers\n",
    "\n",
    "         # 계산된 거리가 '1km' 내에 있는 경우, count 1씩 증가\n",
    "        if distance <= km :\n",
    "            count += 1\n",
    "\n",
    "    house.at[h_idx, '대학교_수'] = count"
   ]
  },
  {
   "cell_type": "code",
   "execution_count": 67,
   "metadata": {},
   "outputs": [
    {
     "data": {
      "text/plain": [
       "0    2635\n",
       "1     441\n",
       "2      46\n",
       "5      13\n",
       "4       7\n",
       "Name: 대학교_수, dtype: int64"
      ]
     },
     "execution_count": 67,
     "metadata": {},
     "output_type": "execute_result"
    }
   ],
   "source": [
    "house.head(1)\n",
    "house['대학교_수'].value_counts()"
   ]
  },
  {
   "cell_type": "markdown",
   "metadata": {},
   "source": [
    "# **4. csv로 저장**"
   ]
  },
  {
   "cell_type": "code",
   "execution_count": 22,
   "metadata": {},
   "outputs": [],
   "source": [
    "house.to_csv('apartment4.csv')"
   ]
  }
 ],
 "metadata": {
  "kernelspec": {
   "display_name": "dataanalysis",
   "language": "python",
   "name": "python3"
  },
  "language_info": {
   "codemirror_mode": {
    "name": "ipython",
    "version": 3
   },
   "file_extension": ".py",
   "mimetype": "text/x-python",
   "name": "python",
   "nbconvert_exporter": "python",
   "pygments_lexer": "ipython3",
   "version": "3.8.17"
  },
  "orig_nbformat": 4
 },
 "nbformat": 4,
 "nbformat_minor": 2
}
