{
 "cells": [
  {
   "cell_type": "markdown",
   "metadata": {},
   "source": [
    "# **1.라이브러리 import**"
   ]
  },
  {
   "cell_type": "code",
   "execution_count": 1,
   "metadata": {},
   "outputs": [],
   "source": [
    "import pandas as pd\n",
    "import seaborn as sns\n",
    "import matplotlib.pyplot as plt\n",
    "import matplotlib as mpl\n",
    "from matplotlib import font_manager\n",
    "from matplotlib import gridspec\n",
    "import pprint\n",
    "import re\n",
    "import requests\n",
    "from bs4 import BeautifulSoup\n",
    "import time\n",
    "\n",
    "import selenium\n",
    "# 웹 드라이버를 초기화하고 웹 브라우저를 조작하는 데 필요한 클래스를 포함\n",
    "from selenium import webdriver\n",
    "\n",
    "# Chrome 웹 드라이버 서비스, 웹 브라우저의 옵션 설정\n",
    "from selenium.webdriver.chrome.service import Service as ChromeService\n",
    "from selenium.webdriver.chrome.options import Options\n",
    "\n",
    "# 웹 페이지에서 요소를 찾는 데 사용되는 다양한 기준(By.ID, By.NAME, By.XPATH)\n",
    "from selenium.webdriver.common.by import By\n",
    "\n",
    "# 웹 요소에 대한 마우스 및 키보드 조작\n",
    "from selenium.webdriver.common.action_chains import ActionChains\n",
    "\n",
    "# 특수 키보드 키(예: Enter, Tab)를 조작\n",
    "from selenium.webdriver.common.keys import Keys\n",
    "\n",
    "# 브라우저를 제어하기 위한 웹 드라이버 설정을 정의\n",
    "from selenium.webdriver.common.desired_capabilities import DesiredCapabilities\n",
    "\n",
    "# 특정 조건이 충족될 때까지 대기\n",
    "from selenium.webdriver.support import expected_conditions as EC\n",
    "from selenium.webdriver.support.wait import WebDriverWait\n",
    "\n",
    "# HTML <select> 요소(드롭다운 메뉴)를 조작\n",
    "from selenium.webdriver.support.select import Select\n",
    "\n",
    "# <웹 드라이버 관리를 위한 webdriver_manager 라이브러리를 설치>\n",
    "# !pip install webdriver_manager\n",
    "import webdriver_manager\n",
    "from webdriver_manager.chrome import ChromeDriverManager\n",
    "\n",
    "# 경고 메세지 무시\n",
    "import warnings\n",
    "warnings.filterwarnings('ignore')\n",
    "\n",
    "# 맷플롯립 그래프를 노트북 안에서 보여주도록 설정\n",
    "%matplotlib inline"
   ]
  },
  {
   "cell_type": "markdown",
   "metadata": {},
   "source": [
    "# **2.URL 파라미터 설정**"
   ]
  },
  {
   "cell_type": "code",
   "execution_count": 2,
   "metadata": {},
   "outputs": [],
   "source": [
    "# key = '공공데이터 포털 개인 API 일반 Key 입력 <- 이걸 입력해야 코드 실행됨'\n",
    "\n",
    "시작일 = '2020-10-01'\n",
    "마지막일 = '2021-09-31'\n",
    "지역들 = ['서울', '경기', '인천']"
   ]
  },
  {
   "cell_type": "markdown",
   "metadata": {},
   "source": [
    "# **3. 공공데이터포털 API 데이터 스크래핑** "
   ]
  },
  {
   "cell_type": "code",
   "execution_count": 3,
   "metadata": {},
   "outputs": [],
   "source": [
    "# 데이터를 저장할 초기화된 딕셔너리 만들기\n",
    "data_dict = {\n",
    "    '타입': [],\n",
    "    '아파트명': [],\n",
    "    '지역': [],\n",
    "    '도로명주소': [],\n",
    "    '세대수': [],\n",
    "    '시행사': [],\n",
    "    '시공사': [],\n",
    "    '세부정보': []    \n",
    "}\n",
    "\n",
    "# 지역들 = [서울, 경기, 인천] 데이터 수집\n",
    "for 지역 in 지역들 :\n",
    "    # API 요청 URL 생성\n",
    "    url = f'https://api.odcloud.kr/api/ApplyhomeInfoDetailSvc/v1/getAPTLttotPblancDetail?page=1&perPage=200&cond[SUBSCRPT_AREA_CODE_NM::EQ]={지역}&cond[RCRIT_PBLANC_DE::LTE]={마지막일}&cond[RCRIT_PBLANC_DE::GTE]={시작일}&serviceKey={key}'\n",
    "    # API 요청\n",
    "    res = requests.get(url)\n",
    "    # 응답 데이터 Json 파싱\n",
    "    data = res.json()\n",
    "    \n",
    "    # 데이터 딕셔너리에 추가\n",
    "    for i in range(data['currentCount']) :\n",
    "        data_dict['타입'].append(data['data'][i]['HOUSE_SECD_NM'])\n",
    "        data_dict['아파트명'].append(data['data'][i]['HOUSE_NM'])\n",
    "        data_dict['지역'].append(data['data'][i]['SUBSCRPT_AREA_CODE_NM'])\n",
    "        data_dict['도로명주소'].append(data['data'][i]['HSSPLY_ADRES'])\n",
    "        data_dict['세대수'].append(data['data'][i]['TOT_SUPLY_HSHLDCO'])\n",
    "        data_dict['시행사'].append(data['data'][i]['BSNS_MBY_NM'])\n",
    "        data_dict['시공사'].append(data['data'][i]['CNSTRCT_ENTRPS_NM'])\n",
    "        data_dict['세부정보'].append(data['data'][i]['PBLANC_URL'])"
   ]
  },
  {
   "cell_type": "code",
   "execution_count": 5,
   "metadata": {},
   "outputs": [
    {
     "data": {
      "text/plain": [
       "dict_keys(['타입', '아파트명', '지역', '도로명주소', '세대수', '시행사', '시공사', '세부정보'])"
      ]
     },
     "execution_count": 5,
     "metadata": {},
     "output_type": "execute_result"
    }
   ],
   "source": [
    "data_dict.keys()"
   ]
  },
  {
   "cell_type": "code",
   "execution_count": 4,
   "metadata": {},
   "outputs": [
    {
     "data": {
      "text/html": [
       "<div>\n",
       "<style scoped>\n",
       "    .dataframe tbody tr th:only-of-type {\n",
       "        vertical-align: middle;\n",
       "    }\n",
       "\n",
       "    .dataframe tbody tr th {\n",
       "        vertical-align: top;\n",
       "    }\n",
       "\n",
       "    .dataframe thead th {\n",
       "        text-align: right;\n",
       "    }\n",
       "</style>\n",
       "<table border=\"1\" class=\"dataframe\">\n",
       "  <thead>\n",
       "    <tr style=\"text-align: right;\">\n",
       "      <th></th>\n",
       "      <th>타입</th>\n",
       "      <th>아파트명</th>\n",
       "      <th>지역</th>\n",
       "      <th>도로명주소</th>\n",
       "      <th>세대수</th>\n",
       "      <th>시행사</th>\n",
       "      <th>시공사</th>\n",
       "      <th>세부정보</th>\n",
       "    </tr>\n",
       "  </thead>\n",
       "  <tbody>\n",
       "    <tr>\n",
       "      <th>0</th>\n",
       "      <td>APT</td>\n",
       "      <td>신림스카이아파트</td>\n",
       "      <td>서울</td>\n",
       "      <td>서울특별시 관악구 신림로 185(신림동, 신림 스카이 아파트)</td>\n",
       "      <td>43</td>\n",
       "      <td>신림 스카이 아파트</td>\n",
       "      <td>(주)제이더블유종합건설</td>\n",
       "      <td>https://www.applyhome.co.kr/ai/aia/selectAPTLt...</td>\n",
       "    </tr>\n",
       "  </tbody>\n",
       "</table>\n",
       "</div>"
      ],
      "text/plain": [
       "    타입      아파트명  지역                               도로명주소  세대수         시행사  \\\n",
       "0  APT  신림스카이아파트  서울  서울특별시 관악구 신림로 185(신림동, 신림 스카이 아파트)   43  신림 스카이 아파트   \n",
       "\n",
       "            시공사                                               세부정보  \n",
       "0  (주)제이더블유종합건설  https://www.applyhome.co.kr/ai/aia/selectAPTLt...  "
      ]
     },
     "execution_count": 4,
     "metadata": {},
     "output_type": "execute_result"
    }
   ],
   "source": [
    "# 수집한 청약 데이터 데이터프레임으로 변환한 후 확인 \n",
    "apt = pd.DataFrame(data_dict)\n",
    "apt.head(1)"
   ]
  },
  {
   "cell_type": "markdown",
   "metadata": {},
   "source": [
    "# **4. 부족한 데이터 셀레니움으로 가져오기**\n",
    "- apt 세부정보 컬럼의 URL을 이용하여 크롤링하기"
   ]
  },
  {
   "cell_type": "code",
   "execution_count": 6,
   "metadata": {},
   "outputs": [],
   "source": [
    "# 1. 데이터를 저장할 초기화된 딕셔너리\n",
    "data_dict2 = {\n",
    "    '타입': [],\n",
    "    '아파트명': [],\n",
    "    '지역': [],\n",
    "    '도로명주소': [],\n",
    "    '세대수': [],\n",
    "    '시행사': [],\n",
    "    '시공사': [],\n",
    "    '주택형': [],\n",
    "    '주택공급면적': [],\n",
    "    '공급세대수': [],\n",
    "    '공급금액(최고가 기준)': [],\n",
    "    '입주예정월': []\n",
    "}\n",
    "\n",
    "# service = ChromeService(executable_path=ChromeDriverManager().install())\n",
    "\n",
    "# 2. Chrome WebDriver를 설정\n",
    "options = Options()\n",
    "\n",
    "# 3. 크롬을 숨기는 옵션 추가\n",
    "options.add_argument(\"--headless\")\n",
    "options.add_argument('--blink-settings=imagesEnabled=false')\n",
    "\n",
    "# 4. 데이터를 많이 요청할 경우 User-Agent로 크롬 브라우저로 인식되도록 설정\n",
    "options.add_argument(\"user-agent=Mozilla/5.0 (Windows NT 10.0; Win64; x64) AppleWebKit/537.36 (KHTML, like Gecko) Chrome/114.0.5735.199 Safari/537.36\")\n",
    "\n",
    "\n",
    "# 5. 크롬드라이버 실행\n",
    "driver = webdriver.Chrome(options=options)\n",
    "wait = WebDriverWait(driver, 10)\n",
    "\n",
    "\n",
    "# 6. apt의 '세부정보' 컬럼에서 URL을 가져와 순회\n",
    "for num, url in enumerate(apt['세부정보']) :\n",
    "    driver.get(url)\n",
    "    table = wait.until(EC.presence_of_element_located((By.CSS_SELECTOR, '.tbl_scroll')))\n",
    "\n",
    "    # 표(table)의 tbody 요소 찾기\n",
    "    tbody = table.find_element(By.TAG_NAME, 'tbody') \n",
    "    # tbody 하위의 모든 tr 요소 찾기\n",
    "    rows = tbody.find_elements(By.TAG_NAME, 'tr') \n",
    "\n",
    "    # 두 번째 표(table2) 찾기\n",
    "    table_xpath = \"//*[@id='printArea']/table[2]\"\n",
    "    table2 = driver.find_element(By.XPATH, table_xpath)\n",
    "    tbody2 = table2.find_element(By.TAG_NAME, 'tbody')  # tbody 요소 찾기\n",
    "    rows2 = tbody2.find_elements(By.TAG_NAME, 'tr')  # tbody 하위의 모든 tr 요소 찾기\n",
    "\n",
    "    # '세부정보'에서 날짜 정보(li_text) 추출\n",
    "    li_xpath = \"//*[@id='printArea']/ul[3]/li[1]\"\n",
    "    li_element = driver.find_element(By.XPATH, li_xpath)\n",
    "    li_text = li_element.text[-7:]\n",
    "    li_text = f'{li_text[:4]}-{li_text[5:]}-01'\n",
    "\n",
    "    result_list = []\n",
    "    result_list2 = []\n",
    "\n",
    "    # 첫 번째 표에서 데이터를 추출\n",
    "    for row in rows[:-1] :  # 마지막 줄 제외\n",
    "        cells = row.find_elements(By.TAG_NAME, 'td')\n",
    "        result_list.append([cell.text for cell in cells])\n",
    "    \n",
    "    # 두 번째 표에서 데이터를 추출\n",
    "    for row2 in rows2:  # 마지막 줄 제외\n",
    "        cells = row2.find_elements(By.TAG_NAME, 'td')\n",
    "        result_list2.append([cell.text for cell in cells])    \n",
    "        \n",
    "    # 데이터를 딕셔너리에 추가\n",
    "    for idx, val in enumerate(result_list) :\n",
    "        if idx == 0 :\n",
    "            val.pop(0)\n",
    "        data_dict2['타입'].append(apt['타입'][num])\n",
    "        data_dict2['아파트명'].append(apt['아파트명'][num])\n",
    "        data_dict2['지역'].append(apt['지역'][num])\n",
    "        data_dict2['도로명주소'].append(apt['도로명주소'][num])\n",
    "        data_dict2['세대수'].append(apt['세대수'][num])\n",
    "        data_dict2['시행사'].append(apt['시행사'][num])\n",
    "        data_dict2['시공사'].append(apt['시공사'][num])\n",
    "        data_dict2['주택형'].append(val[0])\n",
    "        data_dict2['주택공급면적'].append(val[1])\n",
    "        data_dict2['공급세대수'].append(val[4])\n",
    "\n",
    "    # 두 번째 표의 데이터를 딕셔너리에 추가\n",
    "    for val in result_list2 :\n",
    "        data_dict2['공급금액(최고가 기준)'].append(val[1])\n",
    "\n",
    "    # 날짜 정보를 딕셔너리에 추가\n",
    "    for i in range(idx+1):\n",
    "        data_dict2['입주예정월'].append(li_text)\n",
    "        \n",
    "    # 크롤링 간 시간 지연을 위해 3초 대기\n",
    "    time.sleep(3)"
   ]
  },
  {
   "cell_type": "code",
   "execution_count": 22,
   "metadata": {},
   "outputs": [
    {
     "name": "stdout",
     "output_type": "stream",
     "text": [
      "총 크롤링 데이터의 길이 :  1029\n"
     ]
    },
    {
     "data": {
      "text/html": [
       "<div>\n",
       "<style scoped>\n",
       "    .dataframe tbody tr th:only-of-type {\n",
       "        vertical-align: middle;\n",
       "    }\n",
       "\n",
       "    .dataframe tbody tr th {\n",
       "        vertical-align: top;\n",
       "    }\n",
       "\n",
       "    .dataframe thead th {\n",
       "        text-align: right;\n",
       "    }\n",
       "</style>\n",
       "<table border=\"1\" class=\"dataframe\">\n",
       "  <thead>\n",
       "    <tr style=\"text-align: right;\">\n",
       "      <th></th>\n",
       "      <th>타입</th>\n",
       "      <th>아파트명</th>\n",
       "      <th>지역</th>\n",
       "      <th>도로명주소</th>\n",
       "      <th>세대수</th>\n",
       "      <th>시행사</th>\n",
       "      <th>시공사</th>\n",
       "      <th>주택형</th>\n",
       "      <th>주택공급면적</th>\n",
       "      <th>공급세대수</th>\n",
       "      <th>공급금액(최고가 기준)</th>\n",
       "      <th>입주예정월</th>\n",
       "    </tr>\n",
       "  </thead>\n",
       "  <tbody>\n",
       "    <tr>\n",
       "      <th>0</th>\n",
       "      <td>APT</td>\n",
       "      <td>신림스카이아파트</td>\n",
       "      <td>서울</td>\n",
       "      <td>서울특별시 관악구 신림로 185(신림동, 신림 스카이 아파트)</td>\n",
       "      <td>43</td>\n",
       "      <td>신림 스카이 아파트</td>\n",
       "      <td>(주)제이더블유종합건설</td>\n",
       "      <td>035.7100</td>\n",
       "      <td>42.8800</td>\n",
       "      <td>1</td>\n",
       "      <td>45,000</td>\n",
       "      <td>2021-09-01</td>\n",
       "    </tr>\n",
       "    <tr>\n",
       "      <th>1</th>\n",
       "      <td>APT</td>\n",
       "      <td>신림스카이아파트</td>\n",
       "      <td>서울</td>\n",
       "      <td>서울특별시 관악구 신림로 185(신림동, 신림 스카이 아파트)</td>\n",
       "      <td>43</td>\n",
       "      <td>신림 스카이 아파트</td>\n",
       "      <td>(주)제이더블유종합건설</td>\n",
       "      <td>038.3400</td>\n",
       "      <td>45.6900</td>\n",
       "      <td>9</td>\n",
       "      <td>45,000</td>\n",
       "      <td>2021-09-01</td>\n",
       "    </tr>\n",
       "    <tr>\n",
       "      <th>2</th>\n",
       "      <td>APT</td>\n",
       "      <td>신림스카이아파트</td>\n",
       "      <td>서울</td>\n",
       "      <td>서울특별시 관악구 신림로 185(신림동, 신림 스카이 아파트)</td>\n",
       "      <td>43</td>\n",
       "      <td>신림 스카이 아파트</td>\n",
       "      <td>(주)제이더블유종합건설</td>\n",
       "      <td>045.8500</td>\n",
       "      <td>54.2000</td>\n",
       "      <td>1</td>\n",
       "      <td>53,000</td>\n",
       "      <td>2021-09-01</td>\n",
       "    </tr>\n",
       "    <tr>\n",
       "      <th>3</th>\n",
       "      <td>APT</td>\n",
       "      <td>신림스카이아파트</td>\n",
       "      <td>서울</td>\n",
       "      <td>서울특별시 관악구 신림로 185(신림동, 신림 스카이 아파트)</td>\n",
       "      <td>43</td>\n",
       "      <td>신림 스카이 아파트</td>\n",
       "      <td>(주)제이더블유종합건설</td>\n",
       "      <td>049.5700</td>\n",
       "      <td>58.3100</td>\n",
       "      <td>1</td>\n",
       "      <td>48,000</td>\n",
       "      <td>2021-09-01</td>\n",
       "    </tr>\n",
       "    <tr>\n",
       "      <th>4</th>\n",
       "      <td>APT</td>\n",
       "      <td>신림스카이아파트</td>\n",
       "      <td>서울</td>\n",
       "      <td>서울특별시 관악구 신림로 185(신림동, 신림 스카이 아파트)</td>\n",
       "      <td>43</td>\n",
       "      <td>신림 스카이 아파트</td>\n",
       "      <td>(주)제이더블유종합건설</td>\n",
       "      <td>050.4600</td>\n",
       "      <td>59.4100</td>\n",
       "      <td>1</td>\n",
       "      <td>57,000</td>\n",
       "      <td>2021-09-01</td>\n",
       "    </tr>\n",
       "  </tbody>\n",
       "</table>\n",
       "</div>"
      ],
      "text/plain": [
       "    타입      아파트명  지역                               도로명주소  세대수         시행사  \\\n",
       "0  APT  신림스카이아파트  서울  서울특별시 관악구 신림로 185(신림동, 신림 스카이 아파트)   43  신림 스카이 아파트   \n",
       "1  APT  신림스카이아파트  서울  서울특별시 관악구 신림로 185(신림동, 신림 스카이 아파트)   43  신림 스카이 아파트   \n",
       "2  APT  신림스카이아파트  서울  서울특별시 관악구 신림로 185(신림동, 신림 스카이 아파트)   43  신림 스카이 아파트   \n",
       "3  APT  신림스카이아파트  서울  서울특별시 관악구 신림로 185(신림동, 신림 스카이 아파트)   43  신림 스카이 아파트   \n",
       "4  APT  신림스카이아파트  서울  서울특별시 관악구 신림로 185(신림동, 신림 스카이 아파트)   43  신림 스카이 아파트   \n",
       "\n",
       "            시공사       주택형   주택공급면적 공급세대수 공급금액(최고가 기준)       입주예정월  \n",
       "0  (주)제이더블유종합건설  035.7100  42.8800     1       45,000  2021-09-01  \n",
       "1  (주)제이더블유종합건설  038.3400  45.6900     9       45,000  2021-09-01  \n",
       "2  (주)제이더블유종합건설  045.8500  54.2000     1       53,000  2021-09-01  \n",
       "3  (주)제이더블유종합건설  049.5700  58.3100     1       48,000  2021-09-01  \n",
       "4  (주)제이더블유종합건설  050.4600  59.4100     1       57,000  2021-09-01  "
      ]
     },
     "execution_count": 22,
     "metadata": {},
     "output_type": "execute_result"
    }
   ],
   "source": [
    "apt2 = pd.DataFrame(data_dict2)\n",
    "print('총 크롤링 데이터의 길이 : ', len(apt2))\n",
    "apt2.head(5)"
   ]
  },
  {
   "cell_type": "markdown",
   "metadata": {},
   "source": [
    "# **5. CSV로 저장**"
   ]
  },
  {
   "cell_type": "code",
   "execution_count": 9,
   "metadata": {},
   "outputs": [],
   "source": [
    "# apt2.to_csv('2020년10월_2021년09월.csv', index=False, encoding='cp949')"
   ]
  },
  {
   "cell_type": "markdown",
   "metadata": {},
   "source": [
    "# **6. excel로 저장**\n",
    "- 크롤링 안된 데이터 구글 시트내에서 추가 데이터 수집하기 위함."
   ]
  },
  {
   "cell_type": "code",
   "execution_count": 23,
   "metadata": {},
   "outputs": [
    {
     "name": "stdout",
     "output_type": "stream",
     "text": [
      "Requirement already satisfied: openpyxl in /Users/jang-yeji/miniconda3/envs/dataanalysis/lib/python3.8/site-packages (3.1.2)\n",
      "Requirement already satisfied: et-xmlfile in /Users/jang-yeji/miniconda3/envs/dataanalysis/lib/python3.8/site-packages (from openpyxl) (1.1.0)\n"
     ]
    }
   ],
   "source": [
    "!pip install openpyxl\n",
    "\n",
    "apt2.to_excel('2020년10월_2021년09월.xlsx')"
   ]
  }
 ],
 "metadata": {
  "kernelspec": {
   "display_name": "Python 3",
   "language": "python",
   "name": "python3"
  },
  "language_info": {
   "codemirror_mode": {
    "name": "ipython",
    "version": 3
   },
   "file_extension": ".py",
   "mimetype": "text/x-python",
   "name": "python",
   "nbconvert_exporter": "python",
   "pygments_lexer": "ipython3",
   "version": "3.8.17"
  },
  "orig_nbformat": 4
 },
 "nbformat": 4,
 "nbformat_minor": 2
}
