{
 "cells": [
  {
   "cell_type": "markdown",
   "metadata": {},
   "source": [
    "# **06. AZURE GPT 데이터로 사용하기 위한 사전 작업**"
   ]
  },
  {
   "cell_type": "markdown",
   "metadata": {},
   "source": [
    "##### **AZURE GPT 프로젝트 대상 아파트 범위**  \n",
    "* 지역: 경기도 화성시, 평택시, 성남시, 과천시, 하남시, 광명시, 수원시\n",
    "* 입주예정연도: 2023년 이후\n",
    "* **2023년 이전 아파트들은 2023년 8월 기준 네이버 부동산 크롤링 데이터에 정보가 존재하여 청약 당시 공급액과 현재 시점 매매가를 비교할 수 있는 아파트만 사용**"
   ]
  },
  {
   "cell_type": "code",
   "execution_count": 1,
   "metadata": {},
   "outputs": [],
   "source": [
    "import pandas as pd\n",
    "apply_apartment = pd.read_csv(\"apartment_20230905.csv\") # 청약 데이터\n",
    "exist_apartment = pd.read_excel(\"부동산데이터_수도권_202308.xlsx\") # 2023년 8월 기준 네이버부동산에 등록되어있는 아파트 데이터\n",
    "exist_apartment = exist_apartment.copy()"
   ]
  },
  {
   "cell_type": "code",
   "execution_count": 2,
   "metadata": {},
   "outputs": [
    {
     "data": {
      "text/plain": [
       "93"
      ]
     },
     "execution_count": 2,
     "metadata": {},
     "output_type": "execute_result"
    }
   ],
   "source": [
    "# 프로젝트 대상 2023년 이후 입주 예정 아파트는 93개\n",
    "ours = apply_apartment[(apply_apartment['기초'].isin(['화성시', '평택시', '성남시', '과천시', '하남시', '광명시', '수원시'])) & \n",
    "                       (apply_apartment['입주예정연도'] >= 2023)]\n",
    "ours['아파트명'].nunique()"
   ]
  },
  {
   "cell_type": "markdown",
   "metadata": {},
   "source": [
    "#### **2023년 이전 아파트들 중 청약 데이터와 현재 부동산 데이터에 동시에 존재하는 아파트 탐색**  \n",
    "* 분양 당시 아파트명과 현재 아파트명이 달라졌거나 또는 각각의 데이터의 이름이 다른 동일 아파트를 찾는 것이 목표\n",
    "* 찾야아하는 아파트는 아래와 같이 68개"
   ]
  },
  {
   "cell_type": "code",
   "execution_count": 3,
   "metadata": {},
   "outputs": [
    {
     "data": {
      "text/plain": [
       "68"
      ]
     },
     "execution_count": 3,
     "metadata": {},
     "output_type": "execute_result"
    }
   ],
   "source": [
    "excluded = apply_apartment[(apply_apartment['기초'].isin(['화성시', '평택시', '성남시', '과천시', '하남시', '광명시', '수원시'])) &\n",
    "                           (apply_apartment['입주예정연도'] <= 2023)]\n",
    "excluded['아파트명'].nunique() "
   ]
  },
  {
   "cell_type": "code",
   "execution_count": 4,
   "metadata": {},
   "outputs": [],
   "source": [
    "# 청약 데이터와 비슷한 컬럼으로 맞추기\n",
    "exist_apartment.drop(columns=['영구임대세대수', '국민임대세대수', '민간임대세대수', '공공임대세대수', '장기임대세대수', '기타임대세대수'],\n",
    "                     inplace=True)\n",
    "exist_apartment['광역'] = exist_apartment['법정동주소'].apply(lambda x: x.split(\" \")[0])\n",
    "exist_apartment['기초'] = exist_apartment['법정동주소'].apply(lambda x: x.split(\" \")[1])\n",
    "exist_apartment['아파트명'] = exist_apartment['아파트명'].str.replace(\" \", \"\")"
   ]
  },
  {
   "cell_type": "code",
   "execution_count": 5,
   "metadata": {},
   "outputs": [
    {
     "data": {
      "text/plain": [
       "기초\n",
       "과천시     21\n",
       "광명시    127\n",
       "성남시    448\n",
       "수원시    776\n",
       "평택시    459\n",
       "하남시    128\n",
       "화성시    401\n",
       "Name: 아파트명, dtype: int64"
      ]
     },
     "execution_count": 5,
     "metadata": {},
     "output_type": "execute_result"
    }
   ],
   "source": [
    "exist = exist_apartment[exist_apartment['기초'].isin(['화성시', '평택시', '성남시', '과천시', '하남시', '광명시', '수원시'])]\n",
    "exist.groupby('기초')['아파트명'].nunique()"
   ]
  },
  {
   "cell_type": "markdown",
   "metadata": {},
   "source": [
    "최초 \n",
    "동시에 존재하는 아파트는 28개 "
   ]
  },
  {
   "cell_type": "code",
   "execution_count": 6,
   "metadata": {},
   "outputs": [
    {
     "data": {
      "text/plain": [
       "28"
      ]
     },
     "execution_count": 6,
     "metadata": {},
     "output_type": "execute_result"
    }
   ],
   "source": [
    "excluded_list = list(excluded['아파트명'].unique())\n",
    "exist_list = list(exist['아파트명'].unique())\n",
    "intersection = set(excluded_list) & set(exist_list) \n",
    "len(intersection)"
   ]
  },
  {
   "cell_type": "code",
   "execution_count": 7,
   "metadata": {},
   "outputs": [],
   "source": [
    "# 비교해야 하는 아파트명\n",
    "looking_for = list(set(excluded_list)-set(intersection)) \n",
    "looking_for_2 = list(set(exist_list)-set(intersection))"
   ]
  },
  {
   "cell_type": "markdown",
   "metadata": {},
   "source": [
    "아래는 '제일'이 들어가는 아파트로 찾은 예시"
   ]
  },
  {
   "cell_type": "code",
   "execution_count": 8,
   "metadata": {},
   "outputs": [
    {
     "data": {
      "text/plain": [
       "['고덕신도시A41BL제일풍경채2차', '고덕신도시A42BL제일풍경채3차센텀']"
      ]
     },
     "execution_count": 8,
     "metadata": {},
     "output_type": "execute_result"
    }
   ],
   "source": [
    "result_1_제일 = [apartment for apartment in looking_for if '제일' in apartment]\n",
    "result_1_제일"
   ]
  },
  {
   "cell_type": "code",
   "execution_count": 9,
   "metadata": {},
   "outputs": [
    {
     "data": {
      "text/plain": [
       "['고덕국제신도시제일풍경채',\n",
       " '제일하이빌1차',\n",
       " 'SC제일행복(주상복합)',\n",
       " '동탄예당마을우미린제일풍경채',\n",
       " '제일풍경채2단지',\n",
       " '제일풍경채에듀앤파크',\n",
       " '무지개8단지제일',\n",
       " '고덕신도시제일풍경채센텀3차',\n",
       " '제일하이빌2차',\n",
       " '향남시범살구꽃마을제일오투그란데',\n",
       " '제일풍경채장당센트럴',\n",
       " '제일풍경채',\n",
       " '고덕신도시제일풍경채2차에듀',\n",
       " '제일풍경채1단지',\n",
       " '제일']"
      ]
     },
     "execution_count": 9,
     "metadata": {},
     "output_type": "execute_result"
    }
   ],
   "source": [
    "result_2_제일 = [apartment for apartment in looking_for_2 if '제일' in apartment]\n",
    "result_2_제일"
   ]
  },
  {
   "cell_type": "code",
   "execution_count": 10,
   "metadata": {},
   "outputs": [],
   "source": [
    "excluded.loc[excluded['아파트명'] == '고덕신도시A42BL제일풍경채3차센텀', '아파트명'] = '고덕신도시제일풍경채센텀3차'\n",
    "excluded.loc[excluded['아파트명'] == '고덕신도시A41BL제일풍경채2차', '아파트명'] = '고덕신도시제일풍경채2차에듀'"
   ]
  },
  {
   "cell_type": "markdown",
   "metadata": {},
   "source": [
    "**위와 같이 각각 비교한 아파트명을 통일시키는 작업**"
   ]
  },
  {
   "cell_type": "code",
   "execution_count": 11,
   "metadata": {},
   "outputs": [],
   "source": [
    "excluded_change = [\n",
    "                ('이안평택안중역아파트', '이안평택안중역'),\n",
    "                ('평택고덕국제신도시A-43블럭호반써밋II', '호반써밋고덕국제신도시에듀파크'),\n",
    "                ('더샵지제역센트럴파크1BL', '더샵지제역센트럴파크(1BL)'),\n",
    "                ('더샵지제역센트럴파크2BL', '더샵지제역센트럴파크(2BL)'),\n",
    "                ('서광교파크뷰', '서광교파크뷰(주상복합)'),\n",
    "                ('위례신도시A3-10BL중흥S-클래스', '위례중흥S-클래스'),\n",
    "                ('과천푸르지오어울림라비엔오', '과천푸르지오라비엔오'),\n",
    "                ('영흥공원푸르지오파크비엔', '영흥숲푸르지오파크비엔'),\n",
    "                ('매교역푸르지오SKVIEW(수원)', '매교역푸르지오SK뷰'),\n",
    "                ('판교밸리자이1단지', '판교밸리자이1단지(주상복합)'),\n",
    "                ('판교밸리자이2단지', '판교밸리자이2단지(주상복합)'),\n",
    "                ('판교밸리자이3단지', '판교밸리자이3단지(주상복합)'),\n",
    "                ('고덕신도시A42BL제일풍경채3차센텀', '고덕신도시제일풍경채센텀3차'),\n",
    "                ('고덕신도시A41BL제일풍경채2차', '고덕신도시제일풍경채2차에듀'),\n",
    "                ('만강아파트', '만강(주상복합)'),\n",
    "                ('동탄역헤리엇', '동탄역헤리엇(주상복합)'),\n",
    "                ('중앙하이츠금광프리미엄아파트', '중앙하이츠금광프리미엄'),\n",
    "                ('화성태안3지구우미린센트포레B-1블럭', '화성태안3지구우미린센트포레B-1BL'),\n",
    "                ('화성태안3지구우미린센트포레B-2블럭', '화성태안3지구우미린센트포레B-2BL'),\n",
    "                ('위례신도시A3-2BL우미린2차', '위례우미린'), \n",
    "                ('화성남양뉴타운C-2BL리젠시빌란트', '화성시청역리젠시빌란트'),\n",
    "                ('신동탄롯데캐슬나노시티', '나노시티역롯데캐슬'),\n",
    "                ('영통롯데캐슬엘클래스1블록', '영통롯데캐슬엘클래스1BL'),\n",
    "                ('영통롯데캐슬엘클래스2블록', '영통롯데캐슬엘클래스2BL'),\n",
    "                ('하남감일한양수자인', '감일수자인')]\n",
    "\n",
    "for before_name, after_name in excluded_change:\n",
    "    excluded.loc[excluded['아파트명'] == before_name, '아파트명'] = after_name"
   ]
  },
  {
   "cell_type": "markdown",
   "metadata": {},
   "source": [
    "**아파트명을 통일시킨 이후 같은 아파트 개수 확인**\n",
    "* 28개 -> 53개"
   ]
  },
  {
   "cell_type": "code",
   "execution_count": 12,
   "metadata": {},
   "outputs": [
    {
     "data": {
      "text/plain": [
       "53"
      ]
     },
     "execution_count": 12,
     "metadata": {},
     "output_type": "execute_result"
    }
   ],
   "source": [
    "excluded_list = list(excluded['아파트명'].unique())\n",
    "exist_list = list(exist['아파트명'].unique())\n",
    "intersection = set(excluded_list) & set(exist_list) \n",
    "len(intersection)"
   ]
  },
  {
   "cell_type": "markdown",
   "metadata": {},
   "source": [
    "**2023년 이전 아파트 중 분양가와 매매가가 있는 아파트만 데이터컬럼으로 추려냄**"
   ]
  },
  {
   "cell_type": "code",
   "execution_count": 13,
   "metadata": {},
   "outputs": [],
   "source": [
    "for_comparison = excluded[excluded['아파트명'].isin(intersection)]"
   ]
  },
  {
   "cell_type": "code",
   "execution_count": 14,
   "metadata": {},
   "outputs": [
    {
     "data": {
      "text/plain": [
       "(301, 50)"
      ]
     },
     "execution_count": 14,
     "metadata": {},
     "output_type": "execute_result"
    }
   ],
   "source": [
    "# 301개 행\n",
    "for_comparison.shape "
   ]
  },
  {
   "cell_type": "markdown",
   "metadata": {},
   "source": [
    "**아파트명과 공급면적 컬럼을 기준으로 병합**"
   ]
  },
  {
   "cell_type": "code",
   "execution_count": 15,
   "metadata": {},
   "outputs": [
    {
     "data": {
      "text/plain": [
       "(311, 102)"
      ]
     },
     "execution_count": 15,
     "metadata": {},
     "output_type": "execute_result"
    }
   ],
   "source": [
    "merged = pd.merge(for_comparison, exist, left_on = ['아파트명', '공급면적'], right_on = ['아파트명', '공급면적'], how='left')\n",
    "merged.shape"
   ]
  },
  {
   "cell_type": "markdown",
   "metadata": {},
   "source": [
    "**'아파트명', '공급면적', '전용면적_x', '전용면적_y' 열을 기준으로 중복된 행들의 공급액 확인**"
   ]
  },
  {
   "cell_type": "code",
   "execution_count": 16,
   "metadata": {},
   "outputs": [
    {
     "data": {
      "text/html": [
       "<div>\n",
       "<style scoped>\n",
       "    .dataframe tbody tr th:only-of-type {\n",
       "        vertical-align: middle;\n",
       "    }\n",
       "\n",
       "    .dataframe tbody tr th {\n",
       "        vertical-align: top;\n",
       "    }\n",
       "\n",
       "    .dataframe thead th {\n",
       "        text-align: right;\n",
       "    }\n",
       "</style>\n",
       "<table border=\"1\" class=\"dataframe\">\n",
       "  <thead>\n",
       "    <tr style=\"text-align: right;\">\n",
       "      <th></th>\n",
       "      <th>아파트명</th>\n",
       "      <th>공급면적</th>\n",
       "      <th>전용면적_x</th>\n",
       "      <th>전용면적_y</th>\n",
       "      <th>공급액(만원)</th>\n",
       "    </tr>\n",
       "  </thead>\n",
       "  <tbody>\n",
       "    <tr>\n",
       "      <th>9</th>\n",
       "      <td>만강(주상복합)</td>\n",
       "      <td>75.34</td>\n",
       "      <td>66.48</td>\n",
       "      <td>66.48</td>\n",
       "      <td>38800</td>\n",
       "    </tr>\n",
       "    <tr>\n",
       "      <th>10</th>\n",
       "      <td>만강(주상복합)</td>\n",
       "      <td>75.34</td>\n",
       "      <td>66.48</td>\n",
       "      <td>66.48</td>\n",
       "      <td>38800</td>\n",
       "    </tr>\n",
       "    <tr>\n",
       "      <th>12</th>\n",
       "      <td>만강(주상복합)</td>\n",
       "      <td>75.34</td>\n",
       "      <td>66.48</td>\n",
       "      <td>66.48</td>\n",
       "      <td>36400</td>\n",
       "    </tr>\n",
       "    <tr>\n",
       "      <th>13</th>\n",
       "      <td>만강(주상복합)</td>\n",
       "      <td>75.34</td>\n",
       "      <td>66.48</td>\n",
       "      <td>66.48</td>\n",
       "      <td>36400</td>\n",
       "    </tr>\n",
       "    <tr>\n",
       "      <th>34</th>\n",
       "      <td>과천제이드자이</td>\n",
       "      <td>80.73</td>\n",
       "      <td>59.99</td>\n",
       "      <td>59.99</td>\n",
       "      <td>54230</td>\n",
       "    </tr>\n",
       "    <tr>\n",
       "      <th>35</th>\n",
       "      <td>과천제이드자이</td>\n",
       "      <td>80.73</td>\n",
       "      <td>59.99</td>\n",
       "      <td>59.99</td>\n",
       "      <td>54230</td>\n",
       "    </tr>\n",
       "    <tr>\n",
       "      <th>37</th>\n",
       "      <td>과천제이드자이</td>\n",
       "      <td>80.73</td>\n",
       "      <td>59.99</td>\n",
       "      <td>59.99</td>\n",
       "      <td>52840</td>\n",
       "    </tr>\n",
       "    <tr>\n",
       "      <th>38</th>\n",
       "      <td>과천제이드자이</td>\n",
       "      <td>80.73</td>\n",
       "      <td>59.99</td>\n",
       "      <td>59.99</td>\n",
       "      <td>52840</td>\n",
       "    </tr>\n",
       "    <tr>\n",
       "      <th>87</th>\n",
       "      <td>e편한세상남양뉴타운</td>\n",
       "      <td>114.95</td>\n",
       "      <td>84.97</td>\n",
       "      <td>84.97</td>\n",
       "      <td>36200</td>\n",
       "    </tr>\n",
       "    <tr>\n",
       "      <th>88</th>\n",
       "      <td>e편한세상남양뉴타운</td>\n",
       "      <td>114.95</td>\n",
       "      <td>84.97</td>\n",
       "      <td>84.97</td>\n",
       "      <td>36200</td>\n",
       "    </tr>\n",
       "    <tr>\n",
       "      <th>90</th>\n",
       "      <td>e편한세상남양뉴타운</td>\n",
       "      <td>114.95</td>\n",
       "      <td>84.97</td>\n",
       "      <td>84.97</td>\n",
       "      <td>35700</td>\n",
       "    </tr>\n",
       "    <tr>\n",
       "      <th>91</th>\n",
       "      <td>e편한세상남양뉴타운</td>\n",
       "      <td>114.95</td>\n",
       "      <td>84.97</td>\n",
       "      <td>84.97</td>\n",
       "      <td>35700</td>\n",
       "    </tr>\n",
       "    <tr>\n",
       "      <th>209</th>\n",
       "      <td>영통아이파크캐슬3단지</td>\n",
       "      <td>249.77</td>\n",
       "      <td>189.52</td>\n",
       "      <td>189.52</td>\n",
       "      <td>137200</td>\n",
       "    </tr>\n",
       "    <tr>\n",
       "      <th>210</th>\n",
       "      <td>영통아이파크캐슬3단지</td>\n",
       "      <td>249.77</td>\n",
       "      <td>189.52</td>\n",
       "      <td>189.52</td>\n",
       "      <td>137200</td>\n",
       "    </tr>\n",
       "    <tr>\n",
       "      <th>211</th>\n",
       "      <td>영통아이파크캐슬3단지</td>\n",
       "      <td>249.77</td>\n",
       "      <td>189.52</td>\n",
       "      <td>189.52</td>\n",
       "      <td>134700</td>\n",
       "    </tr>\n",
       "    <tr>\n",
       "      <th>212</th>\n",
       "      <td>영통아이파크캐슬3단지</td>\n",
       "      <td>249.77</td>\n",
       "      <td>189.52</td>\n",
       "      <td>189.52</td>\n",
       "      <td>134700</td>\n",
       "    </tr>\n",
       "  </tbody>\n",
       "</table>\n",
       "</div>"
      ],
      "text/plain": [
       "            아파트명    공급면적  전용면적_x  전용면적_y  공급액(만원)\n",
       "9       만강(주상복합)   75.34   66.48   66.48    38800\n",
       "10      만강(주상복합)   75.34   66.48   66.48    38800\n",
       "12      만강(주상복합)   75.34   66.48   66.48    36400\n",
       "13      만강(주상복합)   75.34   66.48   66.48    36400\n",
       "34       과천제이드자이   80.73   59.99   59.99    54230\n",
       "35       과천제이드자이   80.73   59.99   59.99    54230\n",
       "37       과천제이드자이   80.73   59.99   59.99    52840\n",
       "38       과천제이드자이   80.73   59.99   59.99    52840\n",
       "87    e편한세상남양뉴타운  114.95   84.97   84.97    36200\n",
       "88    e편한세상남양뉴타운  114.95   84.97   84.97    36200\n",
       "90    e편한세상남양뉴타운  114.95   84.97   84.97    35700\n",
       "91    e편한세상남양뉴타운  114.95   84.97   84.97    35700\n",
       "209  영통아이파크캐슬3단지  249.77  189.52  189.52   137200\n",
       "210  영통아이파크캐슬3단지  249.77  189.52  189.52   137200\n",
       "211  영통아이파크캐슬3단지  249.77  189.52  189.52   134700\n",
       "212  영통아이파크캐슬3단지  249.77  189.52  189.52   134700"
      ]
     },
     "execution_count": 16,
     "metadata": {},
     "output_type": "execute_result"
    }
   ],
   "source": [
    "duplicates = merged[merged.duplicated(subset=['아파트명', '공급면적', '전용면적_x', '전용면적_y'], keep=False)]\n",
    "duplicates[['아파트명', '공급면적', '전용면적_x', '전용면적_y', '공급액(만원)']]"
   ]
  },
  {
   "cell_type": "markdown",
   "metadata": {},
   "source": [
    "**같은 타입이므로 삭제**  \n",
    "* '아파트명', '공급면적', '전용면적_x', '전용면적_y', '공급액(만원)' 열을 기준으로 중복된 행을 첫 번째 행을 유지하고 나머지 중복된 행을 제거"
   ]
  },
  {
   "cell_type": "code",
   "execution_count": 17,
   "metadata": {},
   "outputs": [],
   "source": [
    "merged.drop_duplicates(subset=['아파트명', '공급면적', '전용면적_x', '전용면적_y', '공급액(만원)'], keep='first', inplace=True)"
   ]
  },
  {
   "cell_type": "code",
   "execution_count": 18,
   "metadata": {},
   "outputs": [
    {
     "data": {
      "text/html": [
       "<div>\n",
       "<style scoped>\n",
       "    .dataframe tbody tr th:only-of-type {\n",
       "        vertical-align: middle;\n",
       "    }\n",
       "\n",
       "    .dataframe tbody tr th {\n",
       "        vertical-align: top;\n",
       "    }\n",
       "\n",
       "    .dataframe thead th {\n",
       "        text-align: right;\n",
       "    }\n",
       "</style>\n",
       "<table border=\"1\" class=\"dataframe\">\n",
       "  <thead>\n",
       "    <tr style=\"text-align: right;\">\n",
       "      <th></th>\n",
       "      <th>아파트명</th>\n",
       "      <th>공급면적</th>\n",
       "      <th>전용면적_x</th>\n",
       "      <th>전용면적_y</th>\n",
       "      <th>공급액(만원)</th>\n",
       "    </tr>\n",
       "  </thead>\n",
       "  <tbody>\n",
       "    <tr>\n",
       "      <th>9</th>\n",
       "      <td>만강(주상복합)</td>\n",
       "      <td>75.34</td>\n",
       "      <td>66.48</td>\n",
       "      <td>66.48</td>\n",
       "      <td>38800</td>\n",
       "    </tr>\n",
       "    <tr>\n",
       "      <th>12</th>\n",
       "      <td>만강(주상복합)</td>\n",
       "      <td>75.34</td>\n",
       "      <td>66.48</td>\n",
       "      <td>66.48</td>\n",
       "      <td>36400</td>\n",
       "    </tr>\n",
       "    <tr>\n",
       "      <th>34</th>\n",
       "      <td>과천제이드자이</td>\n",
       "      <td>80.73</td>\n",
       "      <td>59.99</td>\n",
       "      <td>59.99</td>\n",
       "      <td>54230</td>\n",
       "    </tr>\n",
       "    <tr>\n",
       "      <th>37</th>\n",
       "      <td>과천제이드자이</td>\n",
       "      <td>80.73</td>\n",
       "      <td>59.99</td>\n",
       "      <td>59.99</td>\n",
       "      <td>52840</td>\n",
       "    </tr>\n",
       "    <tr>\n",
       "      <th>87</th>\n",
       "      <td>e편한세상남양뉴타운</td>\n",
       "      <td>114.95</td>\n",
       "      <td>84.97</td>\n",
       "      <td>84.97</td>\n",
       "      <td>36200</td>\n",
       "    </tr>\n",
       "    <tr>\n",
       "      <th>90</th>\n",
       "      <td>e편한세상남양뉴타운</td>\n",
       "      <td>114.95</td>\n",
       "      <td>84.97</td>\n",
       "      <td>84.97</td>\n",
       "      <td>35700</td>\n",
       "    </tr>\n",
       "    <tr>\n",
       "      <th>209</th>\n",
       "      <td>영통아이파크캐슬3단지</td>\n",
       "      <td>249.77</td>\n",
       "      <td>189.52</td>\n",
       "      <td>189.52</td>\n",
       "      <td>137200</td>\n",
       "    </tr>\n",
       "    <tr>\n",
       "      <th>211</th>\n",
       "      <td>영통아이파크캐슬3단지</td>\n",
       "      <td>249.77</td>\n",
       "      <td>189.52</td>\n",
       "      <td>189.52</td>\n",
       "      <td>134700</td>\n",
       "    </tr>\n",
       "  </tbody>\n",
       "</table>\n",
       "</div>"
      ],
      "text/plain": [
       "            아파트명    공급면적  전용면적_x  전용면적_y  공급액(만원)\n",
       "9       만강(주상복합)   75.34   66.48   66.48    38800\n",
       "12      만강(주상복합)   75.34   66.48   66.48    36400\n",
       "34       과천제이드자이   80.73   59.99   59.99    54230\n",
       "37       과천제이드자이   80.73   59.99   59.99    52840\n",
       "87    e편한세상남양뉴타운  114.95   84.97   84.97    36200\n",
       "90    e편한세상남양뉴타운  114.95   84.97   84.97    35700\n",
       "209  영통아이파크캐슬3단지  249.77  189.52  189.52   137200\n",
       "211  영통아이파크캐슬3단지  249.77  189.52  189.52   134700"
      ]
     },
     "execution_count": 18,
     "metadata": {},
     "output_type": "execute_result"
    }
   ],
   "source": [
    "# 삭제되었는지 확인\n",
    "duplicates = merged[merged.duplicated(subset=['아파트명', '공급면적', '전용면적_x', '전용면적_y'], keep=False)]\n",
    "duplicates[['아파트명', '공급면적', '전용면적_x', '전용면적_y', '공급액(만원)']]"
   ]
  },
  {
   "cell_type": "markdown",
   "metadata": {},
   "source": [
    "**그럼에도 병합 후 2행이 추가된 것을 확인**"
   ]
  },
  {
   "cell_type": "code",
   "execution_count": 19,
   "metadata": {},
   "outputs": [
    {
     "data": {
      "text/plain": [
       "(303, 102)"
      ]
     },
     "execution_count": 19,
     "metadata": {},
     "output_type": "execute_result"
    }
   ],
   "source": [
    "merged = merged.drop_duplicates()\n",
    "merged.shape"
   ]
  },
  {
   "cell_type": "code",
   "execution_count": 20,
   "metadata": {},
   "outputs": [
    {
     "data": {
      "text/html": [
       "<div>\n",
       "<style scoped>\n",
       "    .dataframe tbody tr th:only-of-type {\n",
       "        vertical-align: middle;\n",
       "    }\n",
       "\n",
       "    .dataframe tbody tr th {\n",
       "        vertical-align: top;\n",
       "    }\n",
       "\n",
       "    .dataframe thead th {\n",
       "        text-align: right;\n",
       "    }\n",
       "</style>\n",
       "<table border=\"1\" class=\"dataframe\">\n",
       "  <thead>\n",
       "    <tr style=\"text-align: right;\">\n",
       "      <th></th>\n",
       "      <th>아파트명</th>\n",
       "      <th>빈도수_merged</th>\n",
       "      <th>빈도수_for_comparison</th>\n",
       "    </tr>\n",
       "  </thead>\n",
       "  <tbody>\n",
       "    <tr>\n",
       "      <th>6</th>\n",
       "      <td>영흥숲푸르지오파크비엔</td>\n",
       "      <td>9</td>\n",
       "      <td>7</td>\n",
       "    </tr>\n",
       "  </tbody>\n",
       "</table>\n",
       "</div>"
      ],
      "text/plain": [
       "          아파트명  빈도수_merged  빈도수_for_comparison\n",
       "6  영흥숲푸르지오파크비엔           9                   7"
      ]
     },
     "execution_count": 20,
     "metadata": {},
     "output_type": "execute_result"
    }
   ],
   "source": [
    "# 행 개수가 다른 아파트 확인 -> 영흥숲푸르지오파크비엔\n",
    "\n",
    "merged_counts = merged['아파트명'].value_counts().reset_index()\n",
    "for_comparison_counts = for_comparison['아파트명'].value_counts().reset_index()\n",
    "merged_counts.columns = ['아파트명', '빈도수_merged']\n",
    "for_comparison_counts.columns = ['아파트명', '빈도수_for_comparison']\n",
    "\n",
    "frequency_comparison = merged_counts.merge(for_comparison_counts, on='아파트명', how='left')\n",
    "frequency_comparison[frequency_comparison['빈도수_merged'] != frequency_comparison['빈도수_for_comparison']]"
   ]
  },
  {
   "cell_type": "markdown",
   "metadata": {},
   "source": [
    "**영흥숲푸르지오파크비엔 확인**"
   ]
  },
  {
   "cell_type": "code",
   "execution_count": 21,
   "metadata": {},
   "outputs": [
    {
     "data": {
      "text/html": [
       "<div>\n",
       "<style scoped>\n",
       "    .dataframe tbody tr th:only-of-type {\n",
       "        vertical-align: middle;\n",
       "    }\n",
       "\n",
       "    .dataframe tbody tr th {\n",
       "        vertical-align: top;\n",
       "    }\n",
       "\n",
       "    .dataframe thead th {\n",
       "        text-align: right;\n",
       "    }\n",
       "</style>\n",
       "<table border=\"1\" class=\"dataframe\">\n",
       "  <thead>\n",
       "    <tr style=\"text-align: right;\">\n",
       "      <th></th>\n",
       "      <th>아파트명</th>\n",
       "      <th>면적</th>\n",
       "      <th>공급면적</th>\n",
       "      <th>전용면적_x</th>\n",
       "      <th>전용면적_y</th>\n",
       "      <th>공급액(만원)</th>\n",
       "    </tr>\n",
       "  </thead>\n",
       "  <tbody>\n",
       "    <tr>\n",
       "      <th>131</th>\n",
       "      <td>영흥숲푸르지오파크비엔</td>\n",
       "      <td>109A㎡</td>\n",
       "      <td>109.96</td>\n",
       "      <td>84.98</td>\n",
       "      <td>84.98</td>\n",
       "      <td>64800</td>\n",
       "    </tr>\n",
       "    <tr>\n",
       "      <th>132</th>\n",
       "      <td>영흥숲푸르지오파크비엔</td>\n",
       "      <td>109C㎡</td>\n",
       "      <td>109.96</td>\n",
       "      <td>84.98</td>\n",
       "      <td>84.99</td>\n",
       "      <td>64800</td>\n",
       "    </tr>\n",
       "    <tr>\n",
       "      <th>133</th>\n",
       "      <td>영흥숲푸르지오파크비엔</td>\n",
       "      <td>109A㎡</td>\n",
       "      <td>109.96</td>\n",
       "      <td>84.99</td>\n",
       "      <td>84.98</td>\n",
       "      <td>64800</td>\n",
       "    </tr>\n",
       "    <tr>\n",
       "      <th>134</th>\n",
       "      <td>영흥숲푸르지오파크비엔</td>\n",
       "      <td>109C㎡</td>\n",
       "      <td>109.96</td>\n",
       "      <td>84.99</td>\n",
       "      <td>84.99</td>\n",
       "      <td>64800</td>\n",
       "    </tr>\n",
       "  </tbody>\n",
       "</table>\n",
       "</div>"
      ],
      "text/plain": [
       "            아파트명     면적    공급면적  전용면적_x  전용면적_y  공급액(만원)\n",
       "131  영흥숲푸르지오파크비엔  109A㎡  109.96   84.98   84.98    64800\n",
       "132  영흥숲푸르지오파크비엔  109C㎡  109.96   84.98   84.99    64800\n",
       "133  영흥숲푸르지오파크비엔  109A㎡  109.96   84.99   84.98    64800\n",
       "134  영흥숲푸르지오파크비엔  109C㎡  109.96   84.99   84.99    64800"
      ]
     },
     "execution_count": 21,
     "metadata": {},
     "output_type": "execute_result"
    }
   ],
   "source": [
    "odd = merged[(merged['아파트명'] == '영흥숲푸르지오파크비엔') & (merged['면적'].str.contains('109A㎡|109C㎡'))]\n",
    "odd[['아파트명', '면적', '공급면적', '전용면적_x', '전용면적_y', '공급액(만원)']]"
   ]
  },
  {
   "cell_type": "code",
   "execution_count": 22,
   "metadata": {},
   "outputs": [],
   "source": [
    "# 영흥숲푸르지오파크비엔에서 전용면적이 다른 행 삭제\n",
    "merged = merged[~((merged.duplicated(subset=['아파트명', '면적', '공급면적', '공급액(만원)'], keep=False)) \n",
    "                  & (merged['전용면적_x'] != merged['전용면적_y']))]"
   ]
  },
  {
   "cell_type": "code",
   "execution_count": 23,
   "metadata": {},
   "outputs": [
    {
     "data": {
      "text/plain": [
       "(301, 102)"
      ]
     },
     "execution_count": 23,
     "metadata": {},
     "output_type": "execute_result"
    }
   ],
   "source": [
    "# 제대로 병합되었음을 확인\n",
    "merged.shape"
   ]
  },
  {
   "cell_type": "code",
   "execution_count": 24,
   "metadata": {},
   "outputs": [
    {
     "data": {
      "text/html": [
       "<div>\n",
       "<style scoped>\n",
       "    .dataframe tbody tr th:only-of-type {\n",
       "        vertical-align: middle;\n",
       "    }\n",
       "\n",
       "    .dataframe tbody tr th {\n",
       "        vertical-align: top;\n",
       "    }\n",
       "\n",
       "    .dataframe thead th {\n",
       "        text-align: right;\n",
       "    }\n",
       "</style>\n",
       "<table border=\"1\" class=\"dataframe\">\n",
       "  <thead>\n",
       "    <tr style=\"text-align: right;\">\n",
       "      <th></th>\n",
       "      <th>아파트명</th>\n",
       "      <th>빈도수_merged</th>\n",
       "      <th>빈도수_for_comparison</th>\n",
       "    </tr>\n",
       "  </thead>\n",
       "  <tbody>\n",
       "  </tbody>\n",
       "</table>\n",
       "</div>"
      ],
      "text/plain": [
       "Empty DataFrame\n",
       "Columns: [아파트명, 빈도수_merged, 빈도수_for_comparison]\n",
       "Index: []"
      ]
     },
     "execution_count": 24,
     "metadata": {},
     "output_type": "execute_result"
    }
   ],
   "source": [
    "# 재확인\n",
    "merged_counts = merged['아파트명'].value_counts().reset_index()\n",
    "for_comparison_counts = for_comparison['아파트명'].value_counts().reset_index()\n",
    "merged_counts.columns = ['아파트명', '빈도수_merged']\n",
    "for_comparison_counts.columns = ['아파트명', '빈도수_for_comparison']\n",
    "\n",
    "frequency_comparison = merged_counts.merge(for_comparison_counts, on='아파트명', how='left')\n",
    "frequency_comparison[frequency_comparison['빈도수_merged'] != frequency_comparison['빈도수_for_comparison']]"
   ]
  },
  {
   "cell_type": "markdown",
   "metadata": {},
   "source": [
    "#### **프롬프트 입력을 원활하게 하기 위한 전처리**"
   ]
  },
  {
   "cell_type": "markdown",
   "metadata": {},
   "source": [
    "우리가 사용할 청약데이터 기준으로 아파트명 다시 변경"
   ]
  },
  {
   "cell_type": "code",
   "execution_count": 25,
   "metadata": {},
   "outputs": [],
   "source": [
    "original_change = [(b, a) for a, b in excluded_change]\n",
    "for before_name, after_name in original_change:\n",
    "    merged.loc[merged['아파트명'] == before_name, '아파트명'] = after_name"
   ]
  },
  {
   "cell_type": "markdown",
   "metadata": {},
   "source": [
    "컬럼 정리"
   ]
  },
  {
   "cell_type": "code",
   "execution_count": 26,
   "metadata": {},
   "outputs": [],
   "source": [
    "merged.columns = merged.columns.str.replace('_x', '')\n",
    "merged = merged.drop(columns=[column_name for column_name in merged.columns if column_name.endswith('_y')])"
   ]
  },
  {
   "cell_type": "markdown",
   "metadata": {},
   "source": [
    "매매호가 단위 '만원'으로 공급액과 통일"
   ]
  },
  {
   "cell_type": "code",
   "execution_count": 27,
   "metadata": {},
   "outputs": [],
   "source": [
    "the_lowest = []\n",
    "the_highest = []\n",
    "\n",
    "for sales_row in merged['매매호가']:\n",
    "    if pd.notna(sales_row):\n",
    "        if \"~\" in sales_row:\n",
    "            low, high = sales_row.split(\"~\")\n",
    "            the_lowest.append(low)\n",
    "            the_highest.append(high)\n",
    "        else:\n",
    "            low = sales_row\n",
    "            high = None\n",
    "            the_lowest.append(low)\n",
    "            the_highest.append(high)\n",
    "    else:\n",
    "        the_lowest.append(None)\n",
    "        the_highest.append(None)\n",
    "\n",
    "merged['매매최저호가(만원)'] = the_lowest\n",
    "merged['매매최고호가(만원)'] = the_highest"
   ]
  },
  {
   "cell_type": "code",
   "execution_count": 28,
   "metadata": {},
   "outputs": [
    {
     "data": {
      "text/html": [
       "<div>\n",
       "<style scoped>\n",
       "    .dataframe tbody tr th:only-of-type {\n",
       "        vertical-align: middle;\n",
       "    }\n",
       "\n",
       "    .dataframe tbody tr th {\n",
       "        vertical-align: top;\n",
       "    }\n",
       "\n",
       "    .dataframe thead th {\n",
       "        text-align: right;\n",
       "    }\n",
       "</style>\n",
       "<table border=\"1\" class=\"dataframe\">\n",
       "  <thead>\n",
       "    <tr style=\"text-align: right;\">\n",
       "      <th></th>\n",
       "      <th>아파트명</th>\n",
       "      <th>법정동주소</th>\n",
       "      <th>위도</th>\n",
       "      <th>경도</th>\n",
       "      <th>세대수</th>\n",
       "      <th>임대세대수</th>\n",
       "      <th>최고층</th>\n",
       "      <th>최저층</th>\n",
       "      <th>최대공급면적</th>\n",
       "      <th>최소공급면적</th>\n",
       "      <th>...</th>\n",
       "      <th>여름관리비</th>\n",
       "      <th>매매호가</th>\n",
       "      <th>전세호가</th>\n",
       "      <th>월세호가</th>\n",
       "      <th>초등학교_학군정보</th>\n",
       "      <th>초등학교_설립정보</th>\n",
       "      <th>초등학교_남학생수</th>\n",
       "      <th>초등학교_여학생수</th>\n",
       "      <th>매매최저호가(만원)</th>\n",
       "      <th>매매최고호가(만원)</th>\n",
       "    </tr>\n",
       "  </thead>\n",
       "  <tbody>\n",
       "    <tr>\n",
       "      <th>0</th>\n",
       "      <td>매교역푸르지오SKVIEW(수원)</td>\n",
       "      <td>경기도 수원시 팔달구 매교동 209-14번지 일원</td>\n",
       "      <td>37.267318</td>\n",
       "      <td>127.019722</td>\n",
       "      <td>3603</td>\n",
       "      <td>121.0</td>\n",
       "      <td>20.0</td>\n",
       "      <td>7.0</td>\n",
       "      <td>149.85</td>\n",
       "      <td>54.65</td>\n",
       "      <td>...</td>\n",
       "      <td>NaN</td>\n",
       "      <td>12억~14억</td>\n",
       "      <td>6억 5,000</td>\n",
       "      <td>NaN</td>\n",
       "      <td>NaN</td>\n",
       "      <td>NaN</td>\n",
       "      <td>NaN</td>\n",
       "      <td>NaN</td>\n",
       "      <td>120000</td>\n",
       "      <td>140000</td>\n",
       "    </tr>\n",
       "  </tbody>\n",
       "</table>\n",
       "<p>1 rows × 83 columns</p>\n",
       "</div>"
      ],
      "text/plain": [
       "                아파트명                        법정동주소         위도          경도  \\\n",
       "0  매교역푸르지오SKVIEW(수원)  경기도 수원시 팔달구 매교동 209-14번지 일원  37.267318  127.019722   \n",
       "\n",
       "    세대수  임대세대수   최고층  최저층  최대공급면적  최소공급면적  ...  여름관리비     매매호가      전세호가  \\\n",
       "0  3603  121.0  20.0  7.0  149.85   54.65  ...    NaN  12억~14억  6억 5,000   \n",
       "\n",
       "   월세호가  초등학교_학군정보  초등학교_설립정보  초등학교_남학생수  초등학교_여학생수  매매최저호가(만원) 매매최고호가(만원)  \n",
       "0   NaN        NaN        NaN        NaN        NaN      120000     140000  \n",
       "\n",
       "[1 rows x 83 columns]"
      ]
     },
     "execution_count": 28,
     "metadata": {},
     "output_type": "execute_result"
    }
   ],
   "source": [
    "def cleaning_price(value):\n",
    "    if pd.notna(value):\n",
    "        value = value.replace(\"억\", \"\").replace(\",\", \"\").replace(\" \", \"\").strip()\n",
    "        if len(value) <= 2:\n",
    "            value += \"0000\"\n",
    "    return value\n",
    "\n",
    "merged['매매최저호가(만원)'] = merged['매매최저호가(만원)'].apply(cleaning_price)\n",
    "merged['매매최고호가(만원)'] = merged['매매최고호가(만원)'].apply(cleaning_price)\n",
    "\n",
    "merged.head(1)"
   ]
  },
  {
   "cell_type": "code",
   "execution_count": 29,
   "metadata": {},
   "outputs": [],
   "source": [
    "merged.to_csv(\"for_comparison.csv\", encoding='UTF-8', index=False)"
   ]
  }
 ],
 "metadata": {
  "kernelspec": {
   "display_name": "mlearning",
   "language": "python",
   "name": "python3"
  },
  "language_info": {
   "codemirror_mode": {
    "name": "ipython",
    "version": 3
   },
   "file_extension": ".py",
   "mimetype": "text/x-python",
   "name": "python",
   "nbconvert_exporter": "python",
   "pygments_lexer": "ipython3",
   "version": "3.8.18"
  },
  "orig_nbformat": 4
 },
 "nbformat": 4,
 "nbformat_minor": 2
}
