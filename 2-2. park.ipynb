{
 "cells": [
  {
   "cell_type": "markdown",
   "metadata": {},
   "source": [
    "# **1. 라이브러리 임포트**"
   ]
  },
  {
   "cell_type": "code",
   "execution_count": 34,
   "metadata": {},
   "outputs": [],
   "source": [
    "import pandas as pd\n",
    "import numpy as np\n",
    "\n",
    "# 위도와 경도 간의 거리를 계산\n",
    "from haversine import haversine, haversine_vector\n",
    "# 지리적 위치 정보를 얻기 위한 \n",
    "from geopy.geocoders import Nominatim \n",
    "# 문자열을 파이썬 데이터 구조로 변환하기 위한\n",
    "import ast "
   ]
  },
  {
   "cell_type": "markdown",
   "metadata": {},
   "source": [
    "# **2. 데이터 로드**"
   ]
  },
  {
   "cell_type": "markdown",
   "metadata": {},
   "source": [
    "## 1) 아파트 데이터\n",
    "- 지하철역, 병원 수, 대학까지 추가된 데이터"
   ]
  },
  {
   "cell_type": "code",
   "execution_count": 45,
   "metadata": {},
   "outputs": [
    {
     "data": {
      "text/html": [
       "<div>\n",
       "<style scoped>\n",
       "    .dataframe tbody tr th:only-of-type {\n",
       "        vertical-align: middle;\n",
       "    }\n",
       "\n",
       "    .dataframe tbody tr th {\n",
       "        vertical-align: top;\n",
       "    }\n",
       "\n",
       "    .dataframe thead th {\n",
       "        text-align: right;\n",
       "    }\n",
       "</style>\n",
       "<table border=\"1\" class=\"dataframe\">\n",
       "  <thead>\n",
       "    <tr style=\"text-align: right;\">\n",
       "      <th></th>\n",
       "      <th>Unnamed: 0</th>\n",
       "      <th>아파트명</th>\n",
       "      <th>법정동주소</th>\n",
       "      <th>위도</th>\n",
       "      <th>경도</th>\n",
       "      <th>세대수</th>\n",
       "      <th>임대세대수</th>\n",
       "      <th>최고층</th>\n",
       "      <th>최저층</th>\n",
       "      <th>최대공급면적</th>\n",
       "      <th>...</th>\n",
       "      <th>입주예정일</th>\n",
       "      <th>공급액(만원)</th>\n",
       "      <th>대형건설사</th>\n",
       "      <th>location</th>\n",
       "      <th>지하철역</th>\n",
       "      <th>지하철역_거리(km)</th>\n",
       "      <th>1차병원</th>\n",
       "      <th>2차병원</th>\n",
       "      <th>3차병원</th>\n",
       "      <th>대학교_수</th>\n",
       "    </tr>\n",
       "  </thead>\n",
       "  <tbody>\n",
       "    <tr>\n",
       "      <th>0</th>\n",
       "      <td>0</td>\n",
       "      <td>올림픽파크 포레온</td>\n",
       "      <td>서울특별시 강동구 둔촌1동 170-1</td>\n",
       "      <td>37.522886</td>\n",
       "      <td>127.140539</td>\n",
       "      <td>12032</td>\n",
       "      <td>1046.0</td>\n",
       "      <td>35.0</td>\n",
       "      <td>20.0</td>\n",
       "      <td>114.42</td>\n",
       "      <td>...</td>\n",
       "      <td>202501</td>\n",
       "      <td>132,040</td>\n",
       "      <td>YES</td>\n",
       "      <td>(37.5228859, 127.140539)</td>\n",
       "      <td>9호선 둔촌오륜역</td>\n",
       "      <td>0.6223</td>\n",
       "      <td>46</td>\n",
       "      <td>16</td>\n",
       "      <td>1</td>\n",
       "      <td>1</td>\n",
       "    </tr>\n",
       "  </tbody>\n",
       "</table>\n",
       "<p>1 rows × 31 columns</p>\n",
       "</div>"
      ],
      "text/plain": [
       "   Unnamed: 0       아파트명                 법정동주소         위도          경도    세대수  \\\n",
       "0           0  올림픽파크 포레온  서울특별시 강동구 둔촌1동 170-1  37.522886  127.140539  12032   \n",
       "\n",
       "    임대세대수   최고층   최저층  최대공급면적  ...   입주예정일  공급액(만원)  대형건설사  \\\n",
       "0  1046.0  35.0  20.0  114.42  ...  202501  132,040    YES   \n",
       "\n",
       "                   location       지하철역  지하철역_거리(km)  1차병원  2차병원  3차병원  대학교_수  \n",
       "0  (37.5228859, 127.140539)  9호선 둔촌오륜역       0.6223    46    16     1      1  \n",
       "\n",
       "[1 rows x 31 columns]"
      ]
     },
     "execution_count": 45,
     "metadata": {},
     "output_type": "execute_result"
    }
   ],
   "source": [
    "apartment = pd.read_csv(\"apartment4.csv\")\n",
    "\n",
    "# apartment의 'location'열을 문자열에서 튜플로 변환 후 위치 데이터 추출\n",
    "apartment.loc[:, 'location'] = apartment['location'].apply(ast.literal_eval)\n",
    "apartment.head(1)"
   ]
  },
  {
   "cell_type": "markdown",
   "metadata": {},
   "source": [
    "## 2) 공원 데이터"
   ]
  },
  {
   "cell_type": "code",
   "execution_count": 46,
   "metadata": {},
   "outputs": [
    {
     "name": "stdout",
     "output_type": "stream",
     "text": [
      "<class 'pandas.core.frame.DataFrame'>\n",
      "RangeIndex: 18064 entries, 0 to 18063\n",
      "Data columns (total 19 columns):\n",
      " #   Column        Non-Null Count  Dtype  \n",
      "---  ------        --------------  -----  \n",
      " 0   관리번호          18064 non-null  object \n",
      " 1   공원명           18064 non-null  object \n",
      " 2   공원구분          18064 non-null  object \n",
      " 3   소재지도로명주소      3651 non-null   object \n",
      " 4   소재지지번주소       17901 non-null  object \n",
      " 5   위도            18052 non-null  float64\n",
      " 6   경도            18053 non-null  float64\n",
      " 7   공원면적          18064 non-null  float64\n",
      " 8   공원보유시설(운동시설)  5014 non-null   object \n",
      " 9   공원보유시설(유희시설)  6439 non-null   object \n",
      " 10  공원보유시설(편익시설)  4992 non-null   object \n",
      " 11  공원보유시설(교양시설)  744 non-null    object \n",
      " 12  공원보유시설(기타시설)  2706 non-null   object \n",
      " 13  지정고시일         15088 non-null  object \n",
      " 14  관리기관명         16703 non-null  object \n",
      " 15  전화번호          17009 non-null  object \n",
      " 16  데이터기준일자       18064 non-null  object \n",
      " 17  제공기관코드        18064 non-null  object \n",
      " 18  제공기관명         18064 non-null  object \n",
      "dtypes: float64(3), object(16)\n",
      "memory usage: 2.6+ MB\n"
     ]
    }
   ],
   "source": [
    "park = pd.read_csv('전국도시공원정보표준데이터.csv', encoding='euc-kr')\n",
    "park.head(1)\n",
    "park.info()"
   ]
  },
  {
   "cell_type": "markdown",
   "metadata": {},
   "source": [
    "# **3. 공원 데이터 전처리**"
   ]
  },
  {
   "cell_type": "code",
   "execution_count": 47,
   "metadata": {},
   "outputs": [],
   "source": [
    "# <공원 '공원구분', '제공기관명' 데이터 확인>\n",
    "\n",
    "# print('공원구분 유니크 값 : ', park['공원구분'].unique()) \n",
    "# print('제공기관명 유니크 값 : ', park['제공기관명'].unique()) "
   ]
  },
  {
   "cell_type": "markdown",
   "metadata": {},
   "source": [
    "## 1) '공원구분' 수정\n",
    "- 삭제할 값 -> '묘지공원', 도시농업공원, '가로공원' '공공공지'\n",
    "- 수정할 값 -> 도시자연공원구역(도시자연공원), 어린인공원(어린이공원)"
   ]
  },
  {
   "cell_type": "code",
   "execution_count": 48,
   "metadata": {},
   "outputs": [
    {
     "data": {
      "text/plain": [
       "어린이공원       9366\n",
       "근린공원        4023\n",
       "소공원         2781\n",
       "기타           568\n",
       "문화공원         404\n",
       "수변공원         337\n",
       "체육공원         258\n",
       "역사공원         193\n",
       "마을마당          49\n",
       "묘지공원          39\n",
       "기타공원          30\n",
       "도시농업공원         7\n",
       "도시자연공원구역       2\n",
       "주제공원           2\n",
       "도시자연공원         2\n",
       "어린인공원          1\n",
       "가로공원           1\n",
       "공공공지           1\n",
       "Name: 공원구분, dtype: int64"
      ]
     },
     "execution_count": 48,
     "metadata": {},
     "output_type": "execute_result"
    }
   ],
   "source": [
    "# (수정 전) 공원구분\n",
    "park['공원구분'].value_counts()"
   ]
  },
  {
   "cell_type": "code",
   "execution_count": 49,
   "metadata": {},
   "outputs": [
    {
     "name": "stderr",
     "output_type": "stream",
     "text": [
      "/var/folders/ht/vmxckhk151s1x5lpr_f5drm40000gn/T/ipykernel_1819/3181141078.py:5: SettingWithCopyWarning: \n",
      "A value is trying to be set on a copy of a slice from a DataFrame.\n",
      "Try using .loc[row_indexer,col_indexer] = value instead\n",
      "\n",
      "See the caveats in the documentation: https://pandas.pydata.org/pandas-docs/stable/user_guide/indexing.html#returning-a-view-versus-a-copy\n",
      "  park_df['공원구분'] = park_df['공원구분'].replace({'어린인공원': '어린이공원',\n"
     ]
    },
    {
     "data": {
      "text/plain": [
       "어린이공원     9367\n",
       "근린공원      4023\n",
       "소공원       2781\n",
       "문화공원       404\n",
       "수변공원       337\n",
       "체육공원       258\n",
       "역사공원       193\n",
       "마을마당        49\n",
       "도시자연공원       4\n",
       "주제공원         2\n",
       "Name: 공원구분, dtype: int64"
      ]
     },
     "execution_count": 49,
     "metadata": {},
     "output_type": "execute_result"
    }
   ],
   "source": [
    "# 삭제\n",
    "park_df = park[~park['공원구분'].isin(['묘지공원', '도시농업공원', '가로공원', '공공공지', '기타', '기타공원'])]\n",
    "\n",
    "# 수정\n",
    "park_df['공원구분'] = park_df['공원구분'].replace({'어린인공원': '어린이공원', \n",
    "                                            '도시자연공원구역': '도시자연공원'})\n",
    "\n",
    "# (수정 후) 공원 구분 \n",
    "park_df['공원구분'].value_counts()"
   ]
  },
  {
   "cell_type": "markdown",
   "metadata": {},
   "source": [
    "## 2) '제공기관명' 필터링\n",
    "- 주소는 null값이 존재 -> 제공기관명으로 '서울', '경기', '인천' 지역 필터링\n",
    "- '서울', '경기', '인천' 지역의 공원 데이터만 선택"
   ]
  },
  {
   "cell_type": "code",
   "execution_count": 50,
   "metadata": {},
   "outputs": [
    {
     "name": "stdout",
     "output_type": "stream",
     "text": [
      "제공기관명 필터링 전 shape : (17418, 19) \n",
      "\n"
     ]
    },
    {
     "data": {
      "text/plain": [
       "충청남도        944\n",
       "경상남도 창원시    466\n",
       "경기도 평택시     458\n",
       "광주광역시       425\n",
       "충청북도 청주시    424\n",
       "           ... \n",
       "경상북도 청송군      1\n",
       "부산관광공사        1\n",
       "전라남도 구례군      1\n",
       "전라북도 순창군      1\n",
       "경상남도 합천군      1\n",
       "Name: 제공기관명, Length: 243, dtype: int64"
      ]
     },
     "execution_count": 50,
     "metadata": {},
     "output_type": "execute_result"
    }
   ],
   "source": [
    "# (수정 전) 서울 | 경기 | 인천을 제외한 타지역 존재 -> 필터링 필요함\n",
    "print('제공기관명 필터링 전 shape :', park_df.shape, '\\n')\n",
    "park_df['제공기관명'].value_counts()"
   ]
  },
  {
   "cell_type": "code",
   "execution_count": 51,
   "metadata": {},
   "outputs": [
    {
     "name": "stdout",
     "output_type": "stream",
     "text": [
      "제공기관명 필터링 후 shape : (6645, 19) \n",
      "\n",
      "제공기관명 필터링 후 : 경기도 평택시      458\n",
      "경기도 수원시      335\n",
      "경기도 화성시      300\n",
      "경기도 용인시      274\n",
      "경기도 고양시      253\n",
      "            ... \n",
      "인천시설공단        18\n",
      "경기도 연천군       17\n",
      "경기도 가평군       15\n",
      "인천광역시 동구      14\n",
      "인천광역시 강화군      4\n",
      "Name: 제공기관명, Length: 67, dtype: int64\n"
     ]
    }
   ],
   "source": [
    "# '제공기관명' 값이 '서울', '경기', '인천'을 포함하는 행 필터링\n",
    "park_df = park_df[park_df['제공기관명'].str.contains('서울|경기|인천')]\n",
    "\n",
    "print('제공기관명 필터링 후 shape :', park_df.shape, '\\n')\n",
    "print('제공기관명 필터링 후 :', park_df['제공기관명'].value_counts())"
   ]
  },
  {
   "cell_type": "markdown",
   "metadata": {},
   "source": [
    "## 3) NaN 값 제거\n",
    "- '위도'와 '경도' 컬럼에 결측값이 있는 행 삭제 후 확인"
   ]
  },
  {
   "cell_type": "code",
   "execution_count": 52,
   "metadata": {},
   "outputs": [
    {
     "name": "stdout",
     "output_type": "stream",
     "text": [
      "결측값 제거 후 shape : (6627, 19) \n",
      "\n"
     ]
    }
   ],
   "source": [
    "# '위도'와 '경도' 컬럼에 NaN 값이 있는 행 삭제\n",
    "park_df = park_df.dropna(subset=['위도', '경도'])\n",
    "print('결측값 제거 후 shape :', park_df.shape, '\\n')\n",
    "\n",
    "# park_df[park_df['위도'].isna() | park_df['경도'].isna()]"
   ]
  },
  {
   "cell_type": "markdown",
   "metadata": {},
   "source": [
    "## 4) 불필요한 컬럼 삭제\n",
    "- 분석에 필요 없는 컬럼 삭제"
   ]
  },
  {
   "cell_type": "code",
   "execution_count": 53,
   "metadata": {},
   "outputs": [
    {
     "data": {
      "text/plain": [
       "Index(['관리번호', '공원명', '공원구분', '소재지도로명주소', '소재지지번주소', '위도', '경도', '공원면적',\n",
       "       '공원보유시설(운동시설)', '공원보유시설(유희시설)', '공원보유시설(편익시설)', '공원보유시설(교양시설)',\n",
       "       '공원보유시설(기타시설)', '지정고시일', '관리기관명', '전화번호', '데이터기준일자', '제공기관코드', '제공기관명'],\n",
       "      dtype='object')"
      ]
     },
     "execution_count": 53,
     "metadata": {},
     "output_type": "execute_result"
    }
   ],
   "source": [
    "park_df.columns"
   ]
  },
  {
   "cell_type": "code",
   "execution_count": 54,
   "metadata": {},
   "outputs": [
    {
     "name": "stdout",
     "output_type": "stream",
     "text": [
      "컬럼 삭제 후 공원 전체 shape :  (6627, 6) \n",
      "\n"
     ]
    }
   ],
   "source": [
    "# 특정 컬럼 삭제\n",
    "park_df.drop(columns=['관리번호', '소재지도로명주소', '소재지지번주소', '공원보유시설(운동시설)', '공원보유시설(유희시설)', '공원보유시설(편익시설)', '공원보유시설(교양시설)', \n",
    "                      '공원보유시설(기타시설)', '지정고시일', '관리기관명', '전화번호', '데이터기준일자', '제공기관코드'], inplace=True)\n",
    "\n",
    "print('컬럼 삭제 후 공원 전체 shape : ', park_df.shape, '\\n')\n",
    "\n",
    "# park_df.head(1)"
   ]
  },
  {
   "cell_type": "markdown",
   "metadata": {},
   "source": [
    "# 5) '위도'와 '경도'를 튜플로 묶어 새로운 'location' 컬럼 생성"
   ]
  },
  {
   "cell_type": "code",
   "execution_count": 56,
   "metadata": {},
   "outputs": [
    {
     "data": {
      "text/html": [
       "<div>\n",
       "<style scoped>\n",
       "    .dataframe tbody tr th:only-of-type {\n",
       "        vertical-align: middle;\n",
       "    }\n",
       "\n",
       "    .dataframe tbody tr th {\n",
       "        vertical-align: top;\n",
       "    }\n",
       "\n",
       "    .dataframe thead th {\n",
       "        text-align: right;\n",
       "    }\n",
       "</style>\n",
       "<table border=\"1\" class=\"dataframe\">\n",
       "  <thead>\n",
       "    <tr style=\"text-align: right;\">\n",
       "      <th></th>\n",
       "      <th>공원명</th>\n",
       "      <th>공원구분</th>\n",
       "      <th>위도</th>\n",
       "      <th>경도</th>\n",
       "      <th>공원면적</th>\n",
       "      <th>제공기관명</th>\n",
       "      <th>location</th>\n",
       "    </tr>\n",
       "  </thead>\n",
       "  <tbody>\n",
       "    <tr>\n",
       "      <th>0</th>\n",
       "      <td>승지공원</td>\n",
       "      <td>근린공원</td>\n",
       "      <td>37.371378</td>\n",
       "      <td>126.813132</td>\n",
       "      <td>10842.0</td>\n",
       "      <td>경기도 시흥시</td>\n",
       "      <td>(37.371378, 126.813132)</td>\n",
       "    </tr>\n",
       "  </tbody>\n",
       "</table>\n",
       "</div>"
      ],
      "text/plain": [
       "    공원명  공원구분         위도          경도     공원면적    제공기관명  \\\n",
       "0  승지공원  근린공원  37.371378  126.813132  10842.0  경기도 시흥시   \n",
       "\n",
       "                  location  \n",
       "0  (37.371378, 126.813132)  "
      ]
     },
     "execution_count": 56,
     "metadata": {},
     "output_type": "execute_result"
    }
   ],
   "source": [
    "park_df['location'] = tuple(zip(park_df['위도'], park_df['경도']))\n",
    "park_df.head(1)\n",
    "# park_df.info()"
   ]
  },
  {
   "cell_type": "markdown",
   "metadata": {},
   "source": [
    "## 6) 아파트와 공원의 위치 데이터 추출"
   ]
  },
  {
   "cell_type": "code",
   "execution_count": 58,
   "metadata": {},
   "outputs": [],
   "source": [
    "park_location = list(park_df['location'])\n",
    "apartment_location = list(apartment['location'])\n",
    "\n",
    "# park_location\n",
    "# apartment_location"
   ]
  },
  {
   "cell_type": "markdown",
   "metadata": {},
   "source": [
    "# **4. 아파트와 가장 가까운 공원 개수 계산**\n",
    "- haversine_vector 함수를 사용하여 공원과 아파트 사이의 거리 계산\n",
    "- 아파트에서 1km 이내에 있는 공원 개수 계산"
   ]
  },
  {
   "cell_type": "code",
   "execution_count": 60,
   "metadata": {},
   "outputs": [],
   "source": [
    "distance_to_park = haversine_vector(park_location, apartment_location, comb=True)\n",
    "\n",
    "# 아파트에서 1km 이내에 있는 공원 개수 계산\n",
    "num_close_park = [np.sum(distance <= 1) for distance in distance_to_park]\n",
    "\n",
    "# 결과를 아파트 데이터프레임에 추가    \n",
    "apartment['공원'] = num_close_park"
   ]
  },
  {
   "cell_type": "code",
   "execution_count": 62,
   "metadata": {},
   "outputs": [
    {
     "data": {
      "text/html": [
       "<div>\n",
       "<style scoped>\n",
       "    .dataframe tbody tr th:only-of-type {\n",
       "        vertical-align: middle;\n",
       "    }\n",
       "\n",
       "    .dataframe tbody tr th {\n",
       "        vertical-align: top;\n",
       "    }\n",
       "\n",
       "    .dataframe thead th {\n",
       "        text-align: right;\n",
       "    }\n",
       "</style>\n",
       "<table border=\"1\" class=\"dataframe\">\n",
       "  <thead>\n",
       "    <tr style=\"text-align: right;\">\n",
       "      <th></th>\n",
       "      <th>Unnamed: 0</th>\n",
       "      <th>아파트명</th>\n",
       "      <th>법정동주소</th>\n",
       "      <th>위도</th>\n",
       "      <th>경도</th>\n",
       "      <th>세대수</th>\n",
       "      <th>임대세대수</th>\n",
       "      <th>최고층</th>\n",
       "      <th>최저층</th>\n",
       "      <th>최대공급면적</th>\n",
       "      <th>...</th>\n",
       "      <th>공급액(만원)</th>\n",
       "      <th>대형건설사</th>\n",
       "      <th>location</th>\n",
       "      <th>지하철역</th>\n",
       "      <th>지하철역_거리(km)</th>\n",
       "      <th>1차병원</th>\n",
       "      <th>2차병원</th>\n",
       "      <th>3차병원</th>\n",
       "      <th>대학교_수</th>\n",
       "      <th>공원</th>\n",
       "    </tr>\n",
       "  </thead>\n",
       "  <tbody>\n",
       "    <tr>\n",
       "      <th>0</th>\n",
       "      <td>0</td>\n",
       "      <td>올림픽파크 포레온</td>\n",
       "      <td>서울특별시 강동구 둔촌1동 170-1</td>\n",
       "      <td>37.522886</td>\n",
       "      <td>127.140539</td>\n",
       "      <td>12032</td>\n",
       "      <td>1046.0</td>\n",
       "      <td>35.0</td>\n",
       "      <td>20.0</td>\n",
       "      <td>114.42</td>\n",
       "      <td>...</td>\n",
       "      <td>132,040</td>\n",
       "      <td>YES</td>\n",
       "      <td>(37.5228859, 127.140539)</td>\n",
       "      <td>9호선 둔촌오륜역</td>\n",
       "      <td>0.6223</td>\n",
       "      <td>46</td>\n",
       "      <td>16</td>\n",
       "      <td>1</td>\n",
       "      <td>1</td>\n",
       "      <td>3</td>\n",
       "    </tr>\n",
       "    <tr>\n",
       "      <th>1</th>\n",
       "      <td>1</td>\n",
       "      <td>올림픽파크 포레온</td>\n",
       "      <td>서울특별시 강동구 둔촌1동 170-1</td>\n",
       "      <td>37.522886</td>\n",
       "      <td>127.140539</td>\n",
       "      <td>12032</td>\n",
       "      <td>1046.0</td>\n",
       "      <td>35.0</td>\n",
       "      <td>20.0</td>\n",
       "      <td>114.42</td>\n",
       "      <td>...</td>\n",
       "      <td>131,280</td>\n",
       "      <td>YES</td>\n",
       "      <td>(37.5228859, 127.140539)</td>\n",
       "      <td>9호선 둔촌오륜역</td>\n",
       "      <td>0.6223</td>\n",
       "      <td>46</td>\n",
       "      <td>16</td>\n",
       "      <td>1</td>\n",
       "      <td>1</td>\n",
       "      <td>3</td>\n",
       "    </tr>\n",
       "    <tr>\n",
       "      <th>2</th>\n",
       "      <td>2</td>\n",
       "      <td>올림픽파크 포레온</td>\n",
       "      <td>서울특별시 강동구 둔촌1동 170-1</td>\n",
       "      <td>37.522886</td>\n",
       "      <td>127.140539</td>\n",
       "      <td>12032</td>\n",
       "      <td>1046.0</td>\n",
       "      <td>35.0</td>\n",
       "      <td>20.0</td>\n",
       "      <td>114.42</td>\n",
       "      <td>...</td>\n",
       "      <td>131,240</td>\n",
       "      <td>YES</td>\n",
       "      <td>(37.5228859, 127.140539)</td>\n",
       "      <td>9호선 둔촌오륜역</td>\n",
       "      <td>0.6223</td>\n",
       "      <td>46</td>\n",
       "      <td>16</td>\n",
       "      <td>1</td>\n",
       "      <td>1</td>\n",
       "      <td>3</td>\n",
       "    </tr>\n",
       "  </tbody>\n",
       "</table>\n",
       "<p>3 rows × 32 columns</p>\n",
       "</div>"
      ],
      "text/plain": [
       "   Unnamed: 0       아파트명                 법정동주소         위도          경도    세대수  \\\n",
       "0           0  올림픽파크 포레온  서울특별시 강동구 둔촌1동 170-1  37.522886  127.140539  12032   \n",
       "1           1  올림픽파크 포레온  서울특별시 강동구 둔촌1동 170-1  37.522886  127.140539  12032   \n",
       "2           2  올림픽파크 포레온  서울특별시 강동구 둔촌1동 170-1  37.522886  127.140539  12032   \n",
       "\n",
       "    임대세대수   최고층   최저층  최대공급면적  ...  공급액(만원)  대형건설사                  location  \\\n",
       "0  1046.0  35.0  20.0  114.42  ...  132,040    YES  (37.5228859, 127.140539)   \n",
       "1  1046.0  35.0  20.0  114.42  ...  131,280    YES  (37.5228859, 127.140539)   \n",
       "2  1046.0  35.0  20.0  114.42  ...  131,240    YES  (37.5228859, 127.140539)   \n",
       "\n",
       "        지하철역  지하철역_거리(km)  1차병원  2차병원  3차병원  대학교_수  공원  \n",
       "0  9호선 둔촌오륜역       0.6223    46    16     1      1   3  \n",
       "1  9호선 둔촌오륜역       0.6223    46    16     1      1   3  \n",
       "2  9호선 둔촌오륜역       0.6223    46    16     1      1   3  \n",
       "\n",
       "[3 rows x 32 columns]"
      ]
     },
     "execution_count": 62,
     "metadata": {},
     "output_type": "execute_result"
    }
   ],
   "source": [
    "# 공원 변수 생성 확인\n",
    "apartment.head(3)"
   ]
  },
  {
   "cell_type": "markdown",
   "metadata": {},
   "source": [
    "# **5. 생성된 df csv로 저장**"
   ]
  },
  {
   "cell_type": "code",
   "execution_count": 63,
   "metadata": {},
   "outputs": [],
   "source": [
    "apartment.to_csv('apartment5.csv')"
   ]
  }
 ],
 "metadata": {
  "kernelspec": {
   "display_name": "mlearning",
   "language": "python",
   "name": "python3"
  },
  "language_info": {
   "codemirror_mode": {
    "name": "ipython",
    "version": 3
   },
   "file_extension": ".py",
   "mimetype": "text/x-python",
   "name": "python",
   "nbconvert_exporter": "python",
   "pygments_lexer": "ipython3",
   "version": "3.8.17"
  },
  "orig_nbformat": 4
 },
 "nbformat": 4,
 "nbformat_minor": 2
}
